{
 "cells": [
  {
   "cell_type": "code",
   "execution_count": 1,
   "metadata": {},
   "outputs": [],
   "source": [
    "import numpy as np\n",
    "import pandas as pd\n",
    "import seaborn as sns\n",
    "import matplotlib.pyplot as plt\n",
    "from scipy import stats\n",
    "from sklearn.model_selection import train_test_split\n",
    "from sklearn.tree import DecisionTreeClassifier\n",
    "from sklearn.metrics import accuracy_score,confusion_matrix,classification_report"
   ]
  },
  {
   "cell_type": "code",
   "execution_count": 2,
   "metadata": {},
   "outputs": [
    {
     "data": {
      "text/html": [
       "<div>\n",
       "<style scoped>\n",
       "    .dataframe tbody tr th:only-of-type {\n",
       "        vertical-align: middle;\n",
       "    }\n",
       "\n",
       "    .dataframe tbody tr th {\n",
       "        vertical-align: top;\n",
       "    }\n",
       "\n",
       "    .dataframe thead th {\n",
       "        text-align: right;\n",
       "    }\n",
       "</style>\n",
       "<table border=\"1\" class=\"dataframe\">\n",
       "  <thead>\n",
       "    <tr style=\"text-align: right;\">\n",
       "      <th></th>\n",
       "      <th>usp_category</th>\n",
       "      <th>usp_class</th>\n",
       "      <th>usp_drug</th>\n",
       "      <th>kegg_id_drug</th>\n",
       "      <th>drug_example</th>\n",
       "      <th>kegg_id_drug_example</th>\n",
       "      <th>nomenclature</th>\n",
       "    </tr>\n",
       "  </thead>\n",
       "  <tbody>\n",
       "    <tr>\n",
       "      <th>0</th>\n",
       "      <td>Analgesics</td>\n",
       "      <td>Nonsteroidal Anti-inflammatory Drugs</td>\n",
       "      <td>celecoxib</td>\n",
       "      <td>NaN</td>\n",
       "      <td>celecoxib</td>\n",
       "      <td>D00567</td>\n",
       "      <td>(JAN/USAN/INN)</td>\n",
       "    </tr>\n",
       "    <tr>\n",
       "      <th>1</th>\n",
       "      <td>Analgesics</td>\n",
       "      <td>Nonsteroidal Anti-inflammatory Drugs</td>\n",
       "      <td>diclofenac</td>\n",
       "      <td>DG00441</td>\n",
       "      <td>diclofenac</td>\n",
       "      <td>D07816</td>\n",
       "      <td>(USAN/INN)</td>\n",
       "    </tr>\n",
       "    <tr>\n",
       "      <th>2</th>\n",
       "      <td>Analgesics</td>\n",
       "      <td>Nonsteroidal Anti-inflammatory Drugs</td>\n",
       "      <td>diclofenac</td>\n",
       "      <td>DG00441</td>\n",
       "      <td>diclofenac potassium</td>\n",
       "      <td>D00903</td>\n",
       "      <td>(USAN)</td>\n",
       "    </tr>\n",
       "    <tr>\n",
       "      <th>3</th>\n",
       "      <td>Analgesics</td>\n",
       "      <td>Nonsteroidal Anti-inflammatory Drugs</td>\n",
       "      <td>diclofenac</td>\n",
       "      <td>DG00441</td>\n",
       "      <td>diclofenac sodium</td>\n",
       "      <td>D00904</td>\n",
       "      <td>(JP17/USP)</td>\n",
       "    </tr>\n",
       "    <tr>\n",
       "      <th>4</th>\n",
       "      <td>Analgesics</td>\n",
       "      <td>Nonsteroidal Anti-inflammatory Drugs</td>\n",
       "      <td>diclofenac</td>\n",
       "      <td>DG00441</td>\n",
       "      <td>diclofenac diethylamine</td>\n",
       "      <td>D07817</td>\n",
       "      <td>NaN</td>\n",
       "    </tr>\n",
       "  </tbody>\n",
       "</table>\n",
       "</div>"
      ],
      "text/plain": [
       "  usp_category                             usp_class    usp_drug kegg_id_drug  \\\n",
       "0   Analgesics  Nonsteroidal Anti-inflammatory Drugs   celecoxib          NaN   \n",
       "1   Analgesics  Nonsteroidal Anti-inflammatory Drugs  diclofenac      DG00441   \n",
       "2   Analgesics  Nonsteroidal Anti-inflammatory Drugs  diclofenac      DG00441   \n",
       "3   Analgesics  Nonsteroidal Anti-inflammatory Drugs  diclofenac      DG00441   \n",
       "4   Analgesics  Nonsteroidal Anti-inflammatory Drugs  diclofenac      DG00441   \n",
       "\n",
       "              drug_example kegg_id_drug_example    nomenclature  \n",
       "0                celecoxib               D00567  (JAN/USAN/INN)  \n",
       "1               diclofenac               D07816      (USAN/INN)  \n",
       "2     diclofenac potassium               D00903          (USAN)  \n",
       "3        diclofenac sodium               D00904      (JP17/USP)  \n",
       "4  diclofenac diethylamine               D07817             NaN  "
      ]
     },
     "execution_count": 2,
     "metadata": {},
     "output_type": "execute_result"
    }
   ],
   "source": [
    "data = pd.read_csv(r'F:\\machine learning and deep learning\\datasets\\usp_drug_classification.csv')\n",
    "data.head()"
   ]
  },
  {
   "cell_type": "code",
   "execution_count": 3,
   "metadata": {},
   "outputs": [
    {
     "name": "stdout",
     "output_type": "stream",
     "text": [
      "<class 'pandas.core.frame.DataFrame'>\n",
      "RangeIndex: 1803 entries, 0 to 1802\n",
      "Data columns (total 7 columns):\n",
      "usp_category            1803 non-null object\n",
      "usp_class               1803 non-null object\n",
      "usp_drug                1803 non-null object\n",
      "kegg_id_drug            1343 non-null object\n",
      "drug_example            1803 non-null object\n",
      "kegg_id_drug_example    1803 non-null object\n",
      "nomenclature            1673 non-null object\n",
      "dtypes: object(7)\n",
      "memory usage: 98.7+ KB\n"
     ]
    }
   ],
   "source": [
    "data.info()"
   ]
  },
  {
   "cell_type": "code",
   "execution_count": 4,
   "metadata": {},
   "outputs": [
    {
     "name": "stdout",
     "output_type": "stream",
     "text": [
      "<class 'pandas.core.frame.DataFrame'>\n",
      "RangeIndex: 1803 entries, 0 to 1802\n",
      "Data columns (total 7 columns):\n",
      "usp_category            1803 non-null object\n",
      "usp_class               1803 non-null object\n",
      "usp_drug                1803 non-null object\n",
      "kegg_id_drug            1343 non-null object\n",
      "drug_example            1803 non-null object\n",
      "kegg_id_drug_example    1803 non-null object\n",
      "nomenclature            1673 non-null object\n",
      "dtypes: object(7)\n",
      "memory usage: 98.7+ KB\n"
     ]
    }
   ],
   "source": [
    "data.info()"
   ]
  },
  {
   "cell_type": "code",
   "execution_count": 5,
   "metadata": {},
   "outputs": [
    {
     "data": {
      "text/html": [
       "<div>\n",
       "<style scoped>\n",
       "    .dataframe tbody tr th:only-of-type {\n",
       "        vertical-align: middle;\n",
       "    }\n",
       "\n",
       "    .dataframe tbody tr th {\n",
       "        vertical-align: top;\n",
       "    }\n",
       "\n",
       "    .dataframe thead th {\n",
       "        text-align: right;\n",
       "    }\n",
       "</style>\n",
       "<table border=\"1\" class=\"dataframe\">\n",
       "  <thead>\n",
       "    <tr style=\"text-align: right;\">\n",
       "      <th></th>\n",
       "      <th>usp_category</th>\n",
       "      <th>usp_class</th>\n",
       "      <th>usp_drug</th>\n",
       "      <th>kegg_id_drug</th>\n",
       "      <th>drug_example</th>\n",
       "      <th>kegg_id_drug_example</th>\n",
       "      <th>nomenclature</th>\n",
       "    </tr>\n",
       "  </thead>\n",
       "  <tbody>\n",
       "    <tr>\n",
       "      <th>count</th>\n",
       "      <td>1803</td>\n",
       "      <td>1803</td>\n",
       "      <td>1803</td>\n",
       "      <td>1343</td>\n",
       "      <td>1803</td>\n",
       "      <td>1803</td>\n",
       "      <td>1673</td>\n",
       "    </tr>\n",
       "    <tr>\n",
       "      <th>unique</th>\n",
       "      <td>33</td>\n",
       "      <td>146</td>\n",
       "      <td>804</td>\n",
       "      <td>432</td>\n",
       "      <td>1497</td>\n",
       "      <td>1525</td>\n",
       "      <td>31</td>\n",
       "    </tr>\n",
       "    <tr>\n",
       "      <th>top</th>\n",
       "      <td>Antibacterials</td>\n",
       "      <td>Nonsteroidal Anti-inflammatory Drugs</td>\n",
       "      <td>dexamethasone</td>\n",
       "      <td>DG00011</td>\n",
       "      <td>timolol</td>\n",
       "      <td>D00304</td>\n",
       "      <td>(INN)</td>\n",
       "    </tr>\n",
       "    <tr>\n",
       "      <th>freq</th>\n",
       "      <td>196</td>\n",
       "      <td>92</td>\n",
       "      <td>34</td>\n",
       "      <td>34</td>\n",
       "      <td>6</td>\n",
       "      <td>6</td>\n",
       "      <td>231</td>\n",
       "    </tr>\n",
       "  </tbody>\n",
       "</table>\n",
       "</div>"
      ],
      "text/plain": [
       "          usp_category                             usp_class       usp_drug  \\\n",
       "count             1803                                  1803           1803   \n",
       "unique              33                                   146            804   \n",
       "top     Antibacterials  Nonsteroidal Anti-inflammatory Drugs  dexamethasone   \n",
       "freq               196                                    92             34   \n",
       "\n",
       "       kegg_id_drug drug_example kegg_id_drug_example nomenclature  \n",
       "count          1343         1803                 1803         1673  \n",
       "unique          432         1497                 1525           31  \n",
       "top         DG00011      timolol               D00304        (INN)  \n",
       "freq             34            6                    6          231  "
      ]
     },
     "execution_count": 5,
     "metadata": {},
     "output_type": "execute_result"
    }
   ],
   "source": [
    "data.describe()"
   ]
  },
  {
   "cell_type": "code",
   "execution_count": 6,
   "metadata": {},
   "outputs": [
    {
     "data": {
      "text/plain": [
       "array(['Nonsteroidal Anti-inflammatory Drugs',\n",
       "       'Opioid Analgesics, Long-acting',\n",
       "       'Opioid Analgesics, Short-acting', 'Local Anesthetics',\n",
       "       'Alcohol Deterrents/Anti-craving', 'Opioid Dependence Treatments',\n",
       "       'Opioid Reversal Agents', 'Smoking Cessation Agents',\n",
       "       'Aminoglycosides', 'Beta-lactam, Cephalosporins',\n",
       "       'Beta-lactam, Penicillins', 'Beta-lactam, Other', 'Macrolides',\n",
       "       'Quinolones', 'Sulfonamides', 'Tetracyclines',\n",
       "       'Antibacterials, Other', 'Calcium Channel Modifying Agents',\n",
       "       'Gamma-aminobutyric Acid (GABA) Augmenting Agents',\n",
       "       'Glutamate Reducing Agents', 'Sodium Channel Agents',\n",
       "       'Anticonvulsants, Other', 'Cholinesterase Inhibitors',\n",
       "       'N-methyl-D-aspartate (NMDA) Receptor Antagonist',\n",
       "       'Antidementia Agents, Other', 'Monoamine Oxidase Inhibitors',\n",
       "       'SSRIs/SNRIs (Selective Serotonin Reuptake Inhibitors/Serotonin and Norepinephrine Reuptake Inhibitors)',\n",
       "       'Tricyclics', 'Antidepressants, Other',\n",
       "       'Emetogenic Therapy Adjuncts', 'Antiemetics, Other',\n",
       "       'Ergot Alkaloids', 'Serotonin (5-HT) 1b/1d Receptor Agonists',\n",
       "       'Prophylactic', 'Parasympathomimetics', 'Antituberculars',\n",
       "       'Antimycobacterials, Other', 'Alkylating Agents', 'Antiandrogens',\n",
       "       'Antiangiogenic Agents', 'Antiestrogens/Modifiers',\n",
       "       'Antimetabolites', 'Aromatase Inhibitors, 3rd Generation',\n",
       "       'Enzyme Inhibitors', 'Molecular Target Inhibitors',\n",
       "       'Monoclonal Antibodies', 'Retinoids', 'Antineoplastics, Other',\n",
       "       'Anthelmintics', 'Antiprotozoals', 'Pediculicides/Scabicides',\n",
       "       'Anticholinergics', 'Dopamine Agonists',\n",
       "       'Dopamine Precursors/L-Amino Acid Decarboxylase Inhibitors',\n",
       "       'Monoamine Oxidase B (MAO-B) Inhibitors',\n",
       "       'Antiparkinson Agents, Other', '1st Generation/Typical',\n",
       "       '2nd Generation/Atypical', 'Treatment-Resistant',\n",
       "       'Anti-cytomegalovirus (CMV) Agents',\n",
       "       'Anti-hepatitis B (HBV) Agents', 'Anti-hepatitis C (HCV) Agents',\n",
       "       'Antiherpetic Agents',\n",
       "       'Anti-HIV Agents, Non-nucleoside Reverse Transcriptase Inhibitors (NNRTI)',\n",
       "       'Anti-HIV Agents, Nucleoside and Nucleotide Reverse Transcriptase Inhibitors (NRTI)v',\n",
       "       'Anti-HIV Agents, Protease Inhibitors',\n",
       "       'Anti-HIV Agents, Integrase Inhibitors (INSTI)',\n",
       "       'Anti-HIV Agents, Other', 'Anti-influenza Agents',\n",
       "       'Benzodiazepines', 'Anxiolytics, Other', 'Mood Stabilizers',\n",
       "       'Bipolar Agents, Other', 'Antidiabetic Agents', 'Glycemic Agents',\n",
       "       'Insulins', 'Anticoagulants', 'Blood Formation Modifiers',\n",
       "       'Coagulants', 'Platelet Modifying Agents',\n",
       "       'Alpha-adrenergic Agonists', 'Alpha-adrenergic Blocking Agents',\n",
       "       'Angiotensin-converting Enzyme (ACE) Inhibitors',\n",
       "       'Angiotensin II Receptor Antagonists', 'Antiarrhythmics',\n",
       "       'Beta-adrenergic Blocking Agents',\n",
       "       'Calcium Channel Blocking Agents',\n",
       "       'Diuretics, Carbonic Anhydrase Inhibitors', 'Diuretics, Loop',\n",
       "       'Diuretics, Potassium-sparing', 'Diuretics, Thiazide',\n",
       "       'Dyslipidemics, Fibric Acid Derivatives',\n",
       "       'Dyslipidemics, HMG CoA Reductase Inhibitors',\n",
       "       'Dyslipidemics, Other', 'Vasodilators, Direct-acting Arterial',\n",
       "       'Vasodilators, Direct-acting Arterial/Venous',\n",
       "       'Cardiovascular Agents, Other',\n",
       "       'Attention Deficit Hyperactivity Disorder Agents, Amphetamines',\n",
       "       'Attention Deficit Hyperactivity Disorder Agents, Non- amphetamines',\n",
       "       'Fibromyalgia Agents', 'Multiple Sclerosis Agents',\n",
       "       'Central Nervous System, Other',\n",
       "       'Antispasmodics, Gastrointestinal',\n",
       "       'Histamine2 (H2) receptor Antagonists',\n",
       "       'Irritable Bowel Syndrome Agents', 'Laxatives', 'Protectants',\n",
       "       'Proton Pump Inhibitors', 'Gastrointestinal Agents, Other',\n",
       "       'Antispasmodics, Urinary', 'Benign Prostatic Hypertrophy Agents',\n",
       "       'Phosphate Binders', 'Genitourinary Agents, Other',\n",
       "       'Anabolic Steroids', 'Androgens', 'Estrogens',\n",
       "       'Progesterone Agonists/Antagonists', 'Progestins',\n",
       "       'Selective Estrogen Receptor Modifying Agents',\n",
       "       'Antithyroid Agents', 'Angioedema (HAE) Agents',\n",
       "       'Immune Suppressants', 'Immunizing Agents, Passive',\n",
       "       'Immunomodulators', 'Vaccines', 'Glucocorticoids',\n",
       "       'Aminosalicylates', 'Ophthalmic Anti-allergy Agents',\n",
       "       'Ophthalmic Antiglaucoma Agents', 'Ophthalmic Anti-inflammatories',\n",
       "       'Ophthalmic Prostaglandin and Prostamide Analogs',\n",
       "       'Ophthalmic Agents, Other', 'Antihistamines',\n",
       "       'Anti-inflammatories, Inhaled Corticosteroids', 'Antileukotrienes',\n",
       "       'Bronchodilators, Anticholinergic',\n",
       "       'Bronchodilators, Sympathomimetic', 'Cystic Fibrosis Agents',\n",
       "       'Mast Cell Stabilizers',\n",
       "       'Phosphodiesterase Inhibitors, Airways Disease',\n",
       "       'Pulmonary Antihypertensives', 'Respiratory Tract Agents, Other',\n",
       "       'GABA Receptor Modulators', 'Sleep Disorders, Other',\n",
       "       'Electrolyte/Mineral Modifiers', 'Electrolyte/Mineral Replacement'],\n",
       "      dtype=object)"
      ]
     },
     "execution_count": 6,
     "metadata": {},
     "output_type": "execute_result"
    }
   ],
   "source": [
    "data.usp_class.unique()"
   ]
  },
  {
   "cell_type": "code",
   "execution_count": 7,
   "metadata": {},
   "outputs": [],
   "source": [
    "data.drop(['kegg_id_drug','kegg_id_drug_example'],axis=1,inplace=True)"
   ]
  },
  {
   "cell_type": "code",
   "execution_count": 8,
   "metadata": {},
   "outputs": [],
   "source": [
    "data.dropna(axis=0,inplace=True)"
   ]
  },
  {
   "cell_type": "code",
   "execution_count": 9,
   "metadata": {},
   "outputs": [
    {
     "data": {
      "text/html": [
       "<div>\n",
       "<style scoped>\n",
       "    .dataframe tbody tr th:only-of-type {\n",
       "        vertical-align: middle;\n",
       "    }\n",
       "\n",
       "    .dataframe tbody tr th {\n",
       "        vertical-align: top;\n",
       "    }\n",
       "\n",
       "    .dataframe thead th {\n",
       "        text-align: right;\n",
       "    }\n",
       "</style>\n",
       "<table border=\"1\" class=\"dataframe\">\n",
       "  <thead>\n",
       "    <tr style=\"text-align: right;\">\n",
       "      <th></th>\n",
       "      <th>usp_category</th>\n",
       "      <th>usp_class</th>\n",
       "      <th>usp_drug</th>\n",
       "      <th>drug_example</th>\n",
       "      <th>nomenclature</th>\n",
       "    </tr>\n",
       "  </thead>\n",
       "  <tbody>\n",
       "    <tr>\n",
       "      <th>0</th>\n",
       "      <td>Analgesics</td>\n",
       "      <td>Nonsteroidal Anti-inflammatory Drugs</td>\n",
       "      <td>celecoxib</td>\n",
       "      <td>celecoxib</td>\n",
       "      <td>(JAN/USAN/INN)</td>\n",
       "    </tr>\n",
       "    <tr>\n",
       "      <th>1</th>\n",
       "      <td>Analgesics</td>\n",
       "      <td>Nonsteroidal Anti-inflammatory Drugs</td>\n",
       "      <td>diclofenac</td>\n",
       "      <td>diclofenac</td>\n",
       "      <td>(USAN/INN)</td>\n",
       "    </tr>\n",
       "    <tr>\n",
       "      <th>2</th>\n",
       "      <td>Analgesics</td>\n",
       "      <td>Nonsteroidal Anti-inflammatory Drugs</td>\n",
       "      <td>diclofenac</td>\n",
       "      <td>diclofenac potassium</td>\n",
       "      <td>(USAN)</td>\n",
       "    </tr>\n",
       "    <tr>\n",
       "      <th>3</th>\n",
       "      <td>Analgesics</td>\n",
       "      <td>Nonsteroidal Anti-inflammatory Drugs</td>\n",
       "      <td>diclofenac</td>\n",
       "      <td>diclofenac sodium</td>\n",
       "      <td>(JP17/USP)</td>\n",
       "    </tr>\n",
       "    <tr>\n",
       "      <th>7</th>\n",
       "      <td>Analgesics</td>\n",
       "      <td>Nonsteroidal Anti-inflammatory Drugs</td>\n",
       "      <td>diflunisal</td>\n",
       "      <td>diflunisal</td>\n",
       "      <td>(JAN/USP/INN)</td>\n",
       "    </tr>\n",
       "  </tbody>\n",
       "</table>\n",
       "</div>"
      ],
      "text/plain": [
       "  usp_category                             usp_class    usp_drug  \\\n",
       "0   Analgesics  Nonsteroidal Anti-inflammatory Drugs   celecoxib   \n",
       "1   Analgesics  Nonsteroidal Anti-inflammatory Drugs  diclofenac   \n",
       "2   Analgesics  Nonsteroidal Anti-inflammatory Drugs  diclofenac   \n",
       "3   Analgesics  Nonsteroidal Anti-inflammatory Drugs  diclofenac   \n",
       "7   Analgesics  Nonsteroidal Anti-inflammatory Drugs  diflunisal   \n",
       "\n",
       "           drug_example    nomenclature  \n",
       "0             celecoxib  (JAN/USAN/INN)  \n",
       "1            diclofenac      (USAN/INN)  \n",
       "2  diclofenac potassium          (USAN)  \n",
       "3     diclofenac sodium      (JP17/USP)  \n",
       "7            diflunisal   (JAN/USP/INN)  "
      ]
     },
     "execution_count": 9,
     "metadata": {},
     "output_type": "execute_result"
    }
   ],
   "source": [
    "data.head()"
   ]
  },
  {
   "cell_type": "code",
   "execution_count": 10,
   "metadata": {},
   "outputs": [
    {
     "data": {
      "text/plain": [
       "Index(['Analgesics', 'Anesthetics',\n",
       "       'Anti-Addiction/Substance Abuse Treatment Agents', 'Antibacterials',\n",
       "       'Anticonvulsants', 'Antidementia Agents', 'Antidepressants',\n",
       "       'Antiemetics', 'Anti-inflammatory Agents', 'Antimigraine Agents',\n",
       "       'Antimyasthenic Agents', 'Antimycobacterials', 'Antineoplastics',\n",
       "       'Antiparasitics', 'Antiparkinson Agents', 'Antipsychotics',\n",
       "       'Antivirals', 'Anxiolytics', 'Bipolar Agents',\n",
       "       'Blood Glucose Regulators', 'Blood Products/Modifiers/Volume Expanders',\n",
       "       'Cardiovascular Agents', 'Central Nervous System Agents',\n",
       "       'Gastrointestinal Agents', 'Genitourinary Agents',\n",
       "       'Hormonal Agents, Stimulant/Replacement/Modifying (Sex Hormones/Modifiers)',\n",
       "       'Hormonal Agents, Suppressant (Thyroid)', 'Immunological Agents',\n",
       "       'Inflammatory Bowel Disease Agents', 'Ophthalmic Agents',\n",
       "       'Respiratory Tract/Pulmonary Agents', 'Sleep Disorder Agents',\n",
       "       'Therapeutic Nutrients/Minerals/Electrolytes'],\n",
       "      dtype='object')"
      ]
     },
     "execution_count": 10,
     "metadata": {},
     "output_type": "execute_result"
    }
   ],
   "source": [
    "data.usp_category,cat_name = pd.factorize(data.usp_category)\n",
    "cat_name"
   ]
  },
  {
   "cell_type": "code",
   "execution_count": 11,
   "metadata": {},
   "outputs": [],
   "source": [
    "data.usp_class,class_name = pd.factorize(data.usp_class)\n",
    "data.usp_drug,drug_name = pd.factorize(data.usp_drug)\n",
    "data.drug_example,example_name = pd.factorize(data.drug_example)\n",
    "data.nomenclature,nom_name = pd.factorize(data.nomenclature)"
   ]
  },
  {
   "cell_type": "code",
   "execution_count": 13,
   "metadata": {},
   "outputs": [
    {
     "data": {
      "text/html": [
       "<div>\n",
       "<style scoped>\n",
       "    .dataframe tbody tr th:only-of-type {\n",
       "        vertical-align: middle;\n",
       "    }\n",
       "\n",
       "    .dataframe tbody tr th {\n",
       "        vertical-align: top;\n",
       "    }\n",
       "\n",
       "    .dataframe thead th {\n",
       "        text-align: right;\n",
       "    }\n",
       "</style>\n",
       "<table border=\"1\" class=\"dataframe\">\n",
       "  <thead>\n",
       "    <tr style=\"text-align: right;\">\n",
       "      <th></th>\n",
       "      <th>usp_category</th>\n",
       "      <th>usp_class</th>\n",
       "      <th>usp_drug</th>\n",
       "      <th>drug_example</th>\n",
       "      <th>nomenclature</th>\n",
       "    </tr>\n",
       "  </thead>\n",
       "  <tbody>\n",
       "    <tr>\n",
       "      <th>0</th>\n",
       "      <td>0</td>\n",
       "      <td>0</td>\n",
       "      <td>0</td>\n",
       "      <td>0</td>\n",
       "      <td>0</td>\n",
       "    </tr>\n",
       "    <tr>\n",
       "      <th>1</th>\n",
       "      <td>0</td>\n",
       "      <td>0</td>\n",
       "      <td>1</td>\n",
       "      <td>1</td>\n",
       "      <td>1</td>\n",
       "    </tr>\n",
       "    <tr>\n",
       "      <th>2</th>\n",
       "      <td>0</td>\n",
       "      <td>0</td>\n",
       "      <td>1</td>\n",
       "      <td>2</td>\n",
       "      <td>2</td>\n",
       "    </tr>\n",
       "    <tr>\n",
       "      <th>3</th>\n",
       "      <td>0</td>\n",
       "      <td>0</td>\n",
       "      <td>1</td>\n",
       "      <td>3</td>\n",
       "      <td>3</td>\n",
       "    </tr>\n",
       "    <tr>\n",
       "      <th>7</th>\n",
       "      <td>0</td>\n",
       "      <td>0</td>\n",
       "      <td>2</td>\n",
       "      <td>4</td>\n",
       "      <td>4</td>\n",
       "    </tr>\n",
       "  </tbody>\n",
       "</table>\n",
       "</div>"
      ],
      "text/plain": [
       "   usp_category  usp_class  usp_drug  drug_example  nomenclature\n",
       "0             0          0         0             0             0\n",
       "1             0          0         1             1             1\n",
       "2             0          0         1             2             2\n",
       "3             0          0         1             3             3\n",
       "7             0          0         2             4             4"
      ]
     },
     "execution_count": 13,
     "metadata": {},
     "output_type": "execute_result"
    }
   ],
   "source": [
    "data.head()"
   ]
  },
  {
   "cell_type": "code",
   "execution_count": 14,
   "metadata": {},
   "outputs": [],
   "source": [
    "x = data.drop('usp_category',axis=1)\n",
    "y = data['usp_category']"
   ]
  },
  {
   "cell_type": "code",
   "execution_count": 15,
   "metadata": {},
   "outputs": [],
   "source": [
    "x_train,x_test,y_train,y_test = train_test_split(x,y,test_size=0.3,random_state=42)"
   ]
  },
  {
   "cell_type": "code",
   "execution_count": 17,
   "metadata": {},
   "outputs": [
    {
     "data": {
      "text/plain": [
       "DecisionTreeClassifier(class_weight=None, criterion='gini', max_depth=None,\n",
       "            max_features=None, max_leaf_nodes=None,\n",
       "            min_impurity_decrease=0.0, min_impurity_split=None,\n",
       "            min_samples_leaf=1, min_samples_split=2,\n",
       "            min_weight_fraction_leaf=0.0, presort=False, random_state=None,\n",
       "            splitter='best')"
      ]
     },
     "execution_count": 17,
     "metadata": {},
     "output_type": "execute_result"
    }
   ],
   "source": [
    "clf = DecisionTreeClassifier()\n",
    "clf.fit(x_train,y_train)"
   ]
  },
  {
   "cell_type": "code",
   "execution_count": 18,
   "metadata": {},
   "outputs": [],
   "source": [
    "y_pred = clf.predict(x_test)"
   ]
  },
  {
   "cell_type": "code",
   "execution_count": 19,
   "metadata": {},
   "outputs": [
    {
     "name": "stdout",
     "output_type": "stream",
     "text": [
      "              precision    recall  f1-score   support\n",
      "\n",
      "           0       0.62      0.95      0.75        22\n",
      "           1       1.00      1.00      1.00         1\n",
      "           2       0.75      1.00      0.86         3\n",
      "           3       0.98      0.98      0.98        53\n",
      "           4       1.00      1.00      1.00        13\n",
      "           5       1.00      1.00      1.00         2\n",
      "           6       0.94      0.73      0.82        22\n",
      "           7       1.00      1.00      1.00        17\n",
      "           8       0.00      0.00      0.00        13\n",
      "           9       0.71      1.00      0.83         5\n",
      "          10       0.00      0.00      0.00         2\n",
      "          11       0.83      1.00      0.91         5\n",
      "          12       1.00      0.97      0.99        35\n",
      "          13       1.00      1.00      1.00         7\n",
      "          14       1.00      1.00      1.00         7\n",
      "          15       1.00      1.00      1.00        14\n",
      "          16       0.96      1.00      0.98        22\n",
      "          17       0.45      0.71      0.56         7\n",
      "          18       0.62      1.00      0.77         5\n",
      "          19       1.00      0.80      0.89        15\n",
      "          20       1.00      1.00      1.00        12\n",
      "          21       1.00      1.00      1.00        43\n",
      "          22       1.00      1.00      1.00         7\n",
      "          23       1.00      1.00      1.00        25\n",
      "          24       1.00      0.91      0.95        11\n",
      "          25       0.91      1.00      0.95        10\n",
      "          27       0.95      1.00      0.97        19\n",
      "          28       1.00      0.90      0.95        21\n",
      "          29       1.00      1.00      1.00        27\n",
      "          30       1.00      1.00      1.00        29\n",
      "          31       1.00      1.00      1.00         7\n",
      "          32       1.00      1.00      1.00        21\n",
      "\n",
      "   micro avg       0.94      0.94      0.94       502\n",
      "   macro avg       0.87      0.91      0.88       502\n",
      "weighted avg       0.93      0.94      0.93       502\n",
      "\n"
     ]
    },
    {
     "name": "stderr",
     "output_type": "stream",
     "text": [
      "f:\\great_learnings\\lib\\site-packages\\sklearn\\metrics\\classification.py:1143: UndefinedMetricWarning: Precision and F-score are ill-defined and being set to 0.0 in labels with no predicted samples.\n",
      "  'precision', 'predicted', average, warn_for)\n",
      "f:\\great_learnings\\lib\\site-packages\\sklearn\\metrics\\classification.py:1143: UndefinedMetricWarning: Precision and F-score are ill-defined and being set to 0.0 in labels with no predicted samples.\n",
      "  'precision', 'predicted', average, warn_for)\n",
      "f:\\great_learnings\\lib\\site-packages\\sklearn\\metrics\\classification.py:1143: UndefinedMetricWarning: Precision and F-score are ill-defined and being set to 0.0 in labels with no predicted samples.\n",
      "  'precision', 'predicted', average, warn_for)\n"
     ]
    }
   ],
   "source": [
    "print(classification_report(y_test,y_pred))"
   ]
  },
  {
   "cell_type": "code",
   "execution_count": 22,
   "metadata": {},
   "outputs": [
    {
     "data": {
      "text/plain": [
       "93.63"
      ]
     },
     "execution_count": 22,
     "metadata": {},
     "output_type": "execute_result"
    }
   ],
   "source": [
    "round(accuracy_score(y_test,y_pred)*100,2)"
   ]
  },
  {
   "cell_type": "code",
   "execution_count": 33,
   "metadata": {},
   "outputs": [
    {
     "data": {
      "image/png": "[encoded data removed]",
      "text/plain": [
       "<Figure size 2160x1368 with 2 Axes>"
      ]
     },
     "metadata": {
      "needs_background": "light"
     },
     "output_type": "display_data"
    }
   ],
   "source": [
    "fig = plt.figure(figsize=(30,19))\n",
    "sns.heatmap(confusion_matrix(y_test,y_pred),annot=True,fmt='.2f');"
   ]
  },
  {
   "cell_type": "code",
   "execution_count": 30,
   "metadata": {},
   "outputs": [
    {
     "data": {
      "text/plain": [
       "array([[21,  0,  0, ...,  0,  0,  0],\n",
       "       [ 0,  1,  0, ...,  0,  0,  0],\n",
       "       [ 0,  0,  3, ...,  0,  0,  0],\n",
       "       ...,\n",
       "       [ 0,  0,  0, ..., 29,  0,  0],\n",
       "       [ 0,  0,  0, ...,  0,  7,  0],\n",
       "       [ 0,  0,  0, ...,  0,  0, 21]], dtype=int64)"
      ]
     },
     "execution_count": 30,
     "metadata": {},
     "output_type": "execute_result"
    }
   ],
   "source": [
    "confusion_matrix(y_test,y_pred)"
   ]
  }
 ],
 "metadata": {
  "kernelspec": {
   "display_name": "Python 3",
   "language": "python",
   "name": "python3"
  },
  "language_info": {
   "codemirror_mode": {
    "name": "ipython",
    "version": 3
   },
   "file_extension": ".py",
   "mimetype": "text/x-python",
   "name": "python",
   "nbconvert_exporter": "python",
   "pygments_lexer": "ipython3",
   "version": "3.6.8"
  }
 },
 "nbformat": 4,
 "nbformat_minor": 2
}
