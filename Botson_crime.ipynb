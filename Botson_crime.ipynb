{
  "nbformat": 4,
  "nbformat_minor": 0,
  "metadata": {
    "colab": {
      "name": "Botson_crime.ipynb",
      "version": "0.3.2",
      "provenance": [],
      "include_colab_link": true
    },
    "kernelspec": {
      "name": "python3",
      "display_name": "Python 3"
    }
  },
  "cells": [
    {
      "cell_type": "markdown",
      "metadata": {
        "id": "view-in-github",
        "colab_type": "text"
      },
      "source": [
        "<a href=\"https://colab.research.google.com/github/sinha96/kaggel_dataset_analysis/blob/master/Botson_crime.ipynb\" target=\"_parent\"><img src=\"https://colab.research.google.com/assets/colab-badge.svg\" alt=\"Open In Colab\"/></a>"
      ]
    },
    {
      "cell_type": "code",
      "metadata": {
        "id": "a-mhojYH9F92",
        "colab_type": "code",
        "colab": {
          "base_uri": "https://localhost:8080/",
          "height": 122
        },
        "outputId": "580a61b8-3040-44c6-9e09-ff9a45d01a85"
      },
      "source": [
        "from google.colab import drive\n",
        "drive.mount('/content/drive')"
      ],
      "execution_count": 1,
      "outputs": [
        {
          "output_type": "stream",
          "text": [
            "Go to this URL in a browser: https://accounts.google.com/o/oauth2/auth?client_id=947318989803-6bn6qk8qdgf4n4g3pfee6491hc0brc4i.apps.googleusercontent.com&redirect_uri=urn%3Aietf%3Awg%3Aoauth%3A2.0%3Aoob&scope=email%20https%3A%2F%2Fwww.googleapis.com%2Fauth%2Fdocs.test%20https%3A%2F%2Fwww.googleapis.com%2Fauth%2Fdrive%20https%3A%2F%2Fwww.googleapis.com%2Fauth%2Fdrive.photos.readonly%20https%3A%2F%2Fwww.googleapis.com%2Fauth%2Fpeopleapi.readonly&response_type=code\n",
            "\n",
            "Enter your authorization code:\n",
            "··········\n",
            "Mounted at /content/drive\n"
          ],
          "name": "stdout"
        }
      ]
    },
    {
      "cell_type": "code",
      "metadata": {
        "id": "CBZnL_0F94ge",
        "colab_type": "code",
        "colab": {}
      },
      "source": [
        "import numpy as np\n",
        "import pandas as pd\n",
        "import matplotlib.pyplot as plt \n",
        "import seaborn as sns"
      ],
      "execution_count": 0,
      "outputs": []
    },
    {
      "cell_type": "code",
      "metadata": {
        "id": "CzFYtspI-Q7b",
        "colab_type": "code",
        "colab": {
          "base_uri": "https://localhost:8080/",
          "height": 289
        },
        "outputId": "bf692780-4f77-4c82-de81-2e55ff3042cd"
      },
      "source": [
        "data = pd.read_csv('/content/drive/My Drive/crimes-in-boston/crime.csv', encoding='latin-1')\n",
        "data.head()"
      ],
      "execution_count": 5,
      "outputs": [
        {
          "output_type": "execute_result",
          "data": {
            "text/html": [
              "<div>\n",
              "<style scoped>\n",
              "    .dataframe tbody tr th:only-of-type {\n",
              "        vertical-align: middle;\n",
              "    }\n",
              "\n",
              "    .dataframe tbody tr th {\n",
              "        vertical-align: top;\n",
              "    }\n",
              "\n",
              "    .dataframe thead th {\n",
              "        text-align: right;\n",
              "    }\n",
              "</style>\n",
              "<table border=\"1\" class=\"dataframe\">\n",
              "  <thead>\n",
              "    <tr style=\"text-align: right;\">\n",
              "      <th></th>\n",
              "      <th>INCIDENT_NUMBER</th>\n",
              "      <th>OFFENSE_CODE</th>\n",
              "      <th>OFFENSE_CODE_GROUP</th>\n",
              "      <th>OFFENSE_DESCRIPTION</th>\n",
              "      <th>DISTRICT</th>\n",
              "      <th>REPORTING_AREA</th>\n",
              "      <th>SHOOTING</th>\n",
              "      <th>OCCURRED_ON_DATE</th>\n",
              "      <th>YEAR</th>\n",
              "      <th>MONTH</th>\n",
              "      <th>DAY_OF_WEEK</th>\n",
              "      <th>HOUR</th>\n",
              "      <th>UCR_PART</th>\n",
              "      <th>STREET</th>\n",
              "      <th>Lat</th>\n",
              "      <th>Long</th>\n",
              "      <th>Location</th>\n",
              "    </tr>\n",
              "  </thead>\n",
              "  <tbody>\n",
              "    <tr>\n",
              "      <th>0</th>\n",
              "      <td>I182070945</td>\n",
              "      <td>619</td>\n",
              "      <td>Larceny</td>\n",
              "      <td>LARCENY ALL OTHERS</td>\n",
              "      <td>D14</td>\n",
              "      <td>808</td>\n",
              "      <td>NaN</td>\n",
              "      <td>2018-09-02 13:00:00</td>\n",
              "      <td>2018</td>\n",
              "      <td>9</td>\n",
              "      <td>Sunday</td>\n",
              "      <td>13</td>\n",
              "      <td>Part One</td>\n",
              "      <td>LINCOLN ST</td>\n",
              "      <td>42.357791</td>\n",
              "      <td>-71.139371</td>\n",
              "      <td>(42.35779134, -71.13937053)</td>\n",
              "    </tr>\n",
              "    <tr>\n",
              "      <th>1</th>\n",
              "      <td>I182070943</td>\n",
              "      <td>1402</td>\n",
              "      <td>Vandalism</td>\n",
              "      <td>VANDALISM</td>\n",
              "      <td>C11</td>\n",
              "      <td>347</td>\n",
              "      <td>NaN</td>\n",
              "      <td>2018-08-21 00:00:00</td>\n",
              "      <td>2018</td>\n",
              "      <td>8</td>\n",
              "      <td>Tuesday</td>\n",
              "      <td>0</td>\n",
              "      <td>Part Two</td>\n",
              "      <td>HECLA ST</td>\n",
              "      <td>42.306821</td>\n",
              "      <td>-71.060300</td>\n",
              "      <td>(42.30682138, -71.06030035)</td>\n",
              "    </tr>\n",
              "    <tr>\n",
              "      <th>2</th>\n",
              "      <td>I182070941</td>\n",
              "      <td>3410</td>\n",
              "      <td>Towed</td>\n",
              "      <td>TOWED MOTOR VEHICLE</td>\n",
              "      <td>D4</td>\n",
              "      <td>151</td>\n",
              "      <td>NaN</td>\n",
              "      <td>2018-09-03 19:27:00</td>\n",
              "      <td>2018</td>\n",
              "      <td>9</td>\n",
              "      <td>Monday</td>\n",
              "      <td>19</td>\n",
              "      <td>Part Three</td>\n",
              "      <td>CAZENOVE ST</td>\n",
              "      <td>42.346589</td>\n",
              "      <td>-71.072429</td>\n",
              "      <td>(42.34658879, -71.07242943)</td>\n",
              "    </tr>\n",
              "    <tr>\n",
              "      <th>3</th>\n",
              "      <td>I182070940</td>\n",
              "      <td>3114</td>\n",
              "      <td>Investigate Property</td>\n",
              "      <td>INVESTIGATE PROPERTY</td>\n",
              "      <td>D4</td>\n",
              "      <td>272</td>\n",
              "      <td>NaN</td>\n",
              "      <td>2018-09-03 21:16:00</td>\n",
              "      <td>2018</td>\n",
              "      <td>9</td>\n",
              "      <td>Monday</td>\n",
              "      <td>21</td>\n",
              "      <td>Part Three</td>\n",
              "      <td>NEWCOMB ST</td>\n",
              "      <td>42.334182</td>\n",
              "      <td>-71.078664</td>\n",
              "      <td>(42.33418175, -71.07866441)</td>\n",
              "    </tr>\n",
              "    <tr>\n",
              "      <th>4</th>\n",
              "      <td>I182070938</td>\n",
              "      <td>3114</td>\n",
              "      <td>Investigate Property</td>\n",
              "      <td>INVESTIGATE PROPERTY</td>\n",
              "      <td>B3</td>\n",
              "      <td>421</td>\n",
              "      <td>NaN</td>\n",
              "      <td>2018-09-03 21:05:00</td>\n",
              "      <td>2018</td>\n",
              "      <td>9</td>\n",
              "      <td>Monday</td>\n",
              "      <td>21</td>\n",
              "      <td>Part Three</td>\n",
              "      <td>DELHI ST</td>\n",
              "      <td>42.275365</td>\n",
              "      <td>-71.090361</td>\n",
              "      <td>(42.27536542, -71.09036101)</td>\n",
              "    </tr>\n",
              "  </tbody>\n",
              "</table>\n",
              "</div>"
            ],
            "text/plain": [
              "  INCIDENT_NUMBER  OFFENSE_CODE  ...       Long                     Location\n",
              "0      I182070945           619  ... -71.139371  (42.35779134, -71.13937053)\n",
              "1      I182070943          1402  ... -71.060300  (42.30682138, -71.06030035)\n",
              "2      I182070941          3410  ... -71.072429  (42.34658879, -71.07242943)\n",
              "3      I182070940          3114  ... -71.078664  (42.33418175, -71.07866441)\n",
              "4      I182070938          3114  ... -71.090361  (42.27536542, -71.09036101)\n",
              "\n",
              "[5 rows x 17 columns]"
            ]
          },
          "metadata": {
            "tags": []
          },
          "execution_count": 5
        }
      ]
    },
    {
      "cell_type": "code",
      "metadata": {
        "id": "zjpWei-C-gWA",
        "colab_type": "code",
        "colab": {
          "base_uri": "https://localhost:8080/",
          "height": 204
        },
        "outputId": "b0d7d990-9998-4cdc-8b1c-3864874ec566"
      },
      "source": [
        "data_code = pd.read_csv('/content/drive/My Drive/crimes-in-boston/offense_codes.csv', encoding='latin-1')\n",
        "data_code.head()"
      ],
      "execution_count": 6,
      "outputs": [
        {
          "output_type": "execute_result",
          "data": {
            "text/html": [
              "<div>\n",
              "<style scoped>\n",
              "    .dataframe tbody tr th:only-of-type {\n",
              "        vertical-align: middle;\n",
              "    }\n",
              "\n",
              "    .dataframe tbody tr th {\n",
              "        vertical-align: top;\n",
              "    }\n",
              "\n",
              "    .dataframe thead th {\n",
              "        text-align: right;\n",
              "    }\n",
              "</style>\n",
              "<table border=\"1\" class=\"dataframe\">\n",
              "  <thead>\n",
              "    <tr style=\"text-align: right;\">\n",
              "      <th></th>\n",
              "      <th>CODE</th>\n",
              "      <th>NAME</th>\n",
              "    </tr>\n",
              "  </thead>\n",
              "  <tbody>\n",
              "    <tr>\n",
              "      <th>0</th>\n",
              "      <td>612</td>\n",
              "      <td>LARCENY PURSE SNATCH - NO FORCE</td>\n",
              "    </tr>\n",
              "    <tr>\n",
              "      <th>1</th>\n",
              "      <td>613</td>\n",
              "      <td>LARCENY SHOPLIFTING</td>\n",
              "    </tr>\n",
              "    <tr>\n",
              "      <th>2</th>\n",
              "      <td>615</td>\n",
              "      <td>LARCENY THEFT OF MV PARTS &amp; ACCESSORIES</td>\n",
              "    </tr>\n",
              "    <tr>\n",
              "      <th>3</th>\n",
              "      <td>1731</td>\n",
              "      <td>INCEST</td>\n",
              "    </tr>\n",
              "    <tr>\n",
              "      <th>4</th>\n",
              "      <td>3111</td>\n",
              "      <td>LICENSE PREMISE VIOLATION</td>\n",
              "    </tr>\n",
              "  </tbody>\n",
              "</table>\n",
              "</div>"
            ],
            "text/plain": [
              "   CODE                                     NAME\n",
              "0   612         LARCENY PURSE SNATCH - NO FORCE \n",
              "1   613                      LARCENY SHOPLIFTING\n",
              "2   615  LARCENY THEFT OF MV PARTS & ACCESSORIES\n",
              "3  1731                                   INCEST\n",
              "4  3111                LICENSE PREMISE VIOLATION"
            ]
          },
          "metadata": {
            "tags": []
          },
          "execution_count": 6
        }
      ]
    },
    {
      "cell_type": "code",
      "metadata": {
        "id": "neAlEUb7_GzL",
        "colab_type": "code",
        "colab": {
          "base_uri": "https://localhost:8080/",
          "height": 323
        },
        "outputId": "b80b0612-1991-493e-b202-f74111b1a982"
      },
      "source": [
        "round(data.isnull().sum()/data.shape[0]*100,2)"
      ],
      "execution_count": 7,
      "outputs": [
        {
          "output_type": "execute_result",
          "data": {
            "text/plain": [
              "INCIDENT_NUMBER         0.00\n",
              "OFFENSE_CODE            0.00\n",
              "OFFENSE_CODE_GROUP      0.00\n",
              "OFFENSE_DESCRIPTION     0.00\n",
              "DISTRICT                0.55\n",
              "REPORTING_AREA          0.00\n",
              "SHOOTING               99.68\n",
              "OCCURRED_ON_DATE        0.00\n",
              "YEAR                    0.00\n",
              "MONTH                   0.00\n",
              "DAY_OF_WEEK             0.00\n",
              "HOUR                    0.00\n",
              "UCR_PART                0.03\n",
              "STREET                  3.41\n",
              "Lat                     6.27\n",
              "Long                    6.27\n",
              "Location                0.00\n",
              "dtype: float64"
            ]
          },
          "metadata": {
            "tags": []
          },
          "execution_count": 7
        }
      ]
    },
    {
      "cell_type": "code",
      "metadata": {
        "id": "cnY4rw0YA8n2",
        "colab_type": "code",
        "colab": {}
      },
      "source": [
        "data.drop(['SHOOTING','Location','OCCURRED_ON_DATE'],axis=1,inplace=True)"
      ],
      "execution_count": 0,
      "outputs": []
    },
    {
      "cell_type": "code",
      "metadata": {
        "id": "0GAiUDOwBVgj",
        "colab_type": "code",
        "colab": {
          "base_uri": "https://localhost:8080/",
          "height": 34
        },
        "outputId": "7a12ca3e-8729-4a5a-9c75-e3c411288027"
      },
      "source": [
        "data.shape"
      ],
      "execution_count": 9,
      "outputs": [
        {
          "output_type": "execute_result",
          "data": {
            "text/plain": [
              "(319073, 16)"
            ]
          },
          "metadata": {
            "tags": []
          },
          "execution_count": 9
        }
      ]
    },
    {
      "cell_type": "code",
      "metadata": {
        "id": "Of_wRqjSEfGi",
        "colab_type": "code",
        "colab": {
          "base_uri": "https://localhost:8080/",
          "height": 204
        },
        "outputId": "a300cd79-5513-4459-d9f2-a68c605cbe45"
      },
      "source": [
        "data.head()"
      ],
      "execution_count": 11,
      "outputs": [
        {
          "output_type": "execute_result",
          "data": {
            "text/html": [
              "<div>\n",
              "<style scoped>\n",
              "    .dataframe tbody tr th:only-of-type {\n",
              "        vertical-align: middle;\n",
              "    }\n",
              "\n",
              "    .dataframe tbody tr th {\n",
              "        vertical-align: top;\n",
              "    }\n",
              "\n",
              "    .dataframe thead th {\n",
              "        text-align: right;\n",
              "    }\n",
              "</style>\n",
              "<table border=\"1\" class=\"dataframe\">\n",
              "  <thead>\n",
              "    <tr style=\"text-align: right;\">\n",
              "      <th></th>\n",
              "      <th>INCIDENT_NUMBER</th>\n",
              "      <th>OFFENSE_CODE</th>\n",
              "      <th>OFFENSE_CODE_GROUP</th>\n",
              "      <th>OFFENSE_DESCRIPTION</th>\n",
              "      <th>DISTRICT</th>\n",
              "      <th>REPORTING_AREA</th>\n",
              "      <th>YEAR</th>\n",
              "      <th>MONTH</th>\n",
              "      <th>DAY_OF_WEEK</th>\n",
              "      <th>HOUR</th>\n",
              "      <th>UCR_PART</th>\n",
              "      <th>STREET</th>\n",
              "      <th>Lat</th>\n",
              "      <th>Long</th>\n",
              "    </tr>\n",
              "  </thead>\n",
              "  <tbody>\n",
              "    <tr>\n",
              "      <th>0</th>\n",
              "      <td>I182070945</td>\n",
              "      <td>619</td>\n",
              "      <td>Larceny</td>\n",
              "      <td>LARCENY ALL OTHERS</td>\n",
              "      <td>D14</td>\n",
              "      <td>808</td>\n",
              "      <td>2018</td>\n",
              "      <td>9</td>\n",
              "      <td>Sunday</td>\n",
              "      <td>13</td>\n",
              "      <td>Part One</td>\n",
              "      <td>LINCOLN ST</td>\n",
              "      <td>42.357791</td>\n",
              "      <td>-71.139371</td>\n",
              "    </tr>\n",
              "    <tr>\n",
              "      <th>1</th>\n",
              "      <td>I182070943</td>\n",
              "      <td>1402</td>\n",
              "      <td>Vandalism</td>\n",
              "      <td>VANDALISM</td>\n",
              "      <td>C11</td>\n",
              "      <td>347</td>\n",
              "      <td>2018</td>\n",
              "      <td>8</td>\n",
              "      <td>Tuesday</td>\n",
              "      <td>0</td>\n",
              "      <td>Part Two</td>\n",
              "      <td>HECLA ST</td>\n",
              "      <td>42.306821</td>\n",
              "      <td>-71.060300</td>\n",
              "    </tr>\n",
              "    <tr>\n",
              "      <th>2</th>\n",
              "      <td>I182070941</td>\n",
              "      <td>3410</td>\n",
              "      <td>Towed</td>\n",
              "      <td>TOWED MOTOR VEHICLE</td>\n",
              "      <td>D4</td>\n",
              "      <td>151</td>\n",
              "      <td>2018</td>\n",
              "      <td>9</td>\n",
              "      <td>Monday</td>\n",
              "      <td>19</td>\n",
              "      <td>Part Three</td>\n",
              "      <td>CAZENOVE ST</td>\n",
              "      <td>42.346589</td>\n",
              "      <td>-71.072429</td>\n",
              "    </tr>\n",
              "    <tr>\n",
              "      <th>3</th>\n",
              "      <td>I182070940</td>\n",
              "      <td>3114</td>\n",
              "      <td>Investigate Property</td>\n",
              "      <td>INVESTIGATE PROPERTY</td>\n",
              "      <td>D4</td>\n",
              "      <td>272</td>\n",
              "      <td>2018</td>\n",
              "      <td>9</td>\n",
              "      <td>Monday</td>\n",
              "      <td>21</td>\n",
              "      <td>Part Three</td>\n",
              "      <td>NEWCOMB ST</td>\n",
              "      <td>42.334182</td>\n",
              "      <td>-71.078664</td>\n",
              "    </tr>\n",
              "    <tr>\n",
              "      <th>4</th>\n",
              "      <td>I182070938</td>\n",
              "      <td>3114</td>\n",
              "      <td>Investigate Property</td>\n",
              "      <td>INVESTIGATE PROPERTY</td>\n",
              "      <td>B3</td>\n",
              "      <td>421</td>\n",
              "      <td>2018</td>\n",
              "      <td>9</td>\n",
              "      <td>Monday</td>\n",
              "      <td>21</td>\n",
              "      <td>Part Three</td>\n",
              "      <td>DELHI ST</td>\n",
              "      <td>42.275365</td>\n",
              "      <td>-71.090361</td>\n",
              "    </tr>\n",
              "  </tbody>\n",
              "</table>\n",
              "</div>"
            ],
            "text/plain": [
              "  INCIDENT_NUMBER  OFFENSE_CODE  ...        Lat       Long\n",
              "0      I182070945           619  ...  42.357791 -71.139371\n",
              "1      I182070943          1402  ...  42.306821 -71.060300\n",
              "2      I182070941          3410  ...  42.346589 -71.072429\n",
              "3      I182070940          3114  ...  42.334182 -71.078664\n",
              "4      I182070938          3114  ...  42.275365 -71.090361\n",
              "\n",
              "[5 rows x 14 columns]"
            ]
          },
          "metadata": {
            "tags": []
          },
          "execution_count": 11
        }
      ]
    },
    {
      "cell_type": "code",
      "metadata": {
        "id": "o3u_bp-yEgLi",
        "colab_type": "code",
        "colab": {
          "base_uri": "https://localhost:8080/",
          "height": 102
        },
        "outputId": "413e9dd5-fa94-414f-fcf1-4f2aa7949ec4"
      },
      "source": [
        "data.YEAR.value_counts()"
      ],
      "execution_count": 20,
      "outputs": [
        {
          "output_type": "execute_result",
          "data": {
            "text/plain": [
              "2017    100886\n",
              "2016     99114\n",
              "2018     65685\n",
              "2015     53388\n",
              "Name: YEAR, dtype: int64"
            ]
          },
          "metadata": {
            "tags": []
          },
          "execution_count": 20
        }
      ]
    },
    {
      "cell_type": "code",
      "metadata": {
        "id": "vFWSZjMsE0Lx",
        "colab_type": "code",
        "colab": {
          "base_uri": "https://localhost:8080/",
          "height": 300
        },
        "outputId": "3c8f4bf7-8caa-4cbd-cedd-80cb149de5c6"
      },
      "source": [
        "sns.countplot(data.YEAR)"
      ],
      "execution_count": 23,
      "outputs": [
        {
          "output_type": "execute_result",
          "data": {
            "text/plain": [
              "<matplotlib.axes._subplots.AxesSubplot at 0x7f68b80532e8>"
            ]
          },
          "metadata": {
            "tags": []
          },
          "execution_count": 23
        },
        {
          "output_type": "display_data",
          "data": {
            "image/png": "[encoded data removed]",
            "text/plain": [
              "<Figure size 432x288 with 1 Axes>"
            ]
          },
          "metadata": {
            "tags": []
          }
        }
      ]
    },
    {
      "cell_type": "markdown",
      "metadata": {
        "id": "2MecXsvoH0Qj",
        "colab_type": "text"
      },
      "source": [
        "## Crime rate in 2016 shoots up by 46.13%"
      ]
    },
    {
      "cell_type": "code",
      "metadata": {
        "id": "q1q1LENXFalW",
        "colab_type": "code",
        "colab": {
          "base_uri": "https://localhost:8080/",
          "height": 34
        },
        "outputId": "0e95b826-6f58-491e-cc73-1009f4c0d349"
      },
      "source": [
        "round((data.YEAR.value_counts().loc[2016] - data.YEAR.value_counts().loc[2015])/data.YEAR.value_counts().loc[2016] * 100,2)"
      ],
      "execution_count": 25,
      "outputs": [
        {
          "output_type": "execute_result",
          "data": {
            "text/plain": [
              "46.13"
            ]
          },
          "metadata": {
            "tags": []
          },
          "execution_count": 25
        }
      ]
    },
    {
      "cell_type": "markdown",
      "metadata": {
        "id": "-t_aDqpiH7pm",
        "colab_type": "text"
      },
      "source": [
        "## Crime rate in 2017 increased by 1.76% "
      ]
    },
    {
      "cell_type": "code",
      "metadata": {
        "id": "ptyYPX6eHI69",
        "colab_type": "code",
        "colab": {
          "base_uri": "https://localhost:8080/",
          "height": 34
        },
        "outputId": "7855c374-8fdd-4a83-d118-4250b5bb158d"
      },
      "source": [
        "round((data.YEAR.value_counts().loc[2017] - data.YEAR.value_counts().loc[2016])/data.YEAR.value_counts().loc[2017] * 100,2)"
      ],
      "execution_count": 26,
      "outputs": [
        {
          "output_type": "execute_result",
          "data": {
            "text/plain": [
              "1.76"
            ]
          },
          "metadata": {
            "tags": []
          },
          "execution_count": 26
        }
      ]
    },
    {
      "cell_type": "markdown",
      "metadata": {
        "id": "qlj6BOfEIC61",
        "colab_type": "text"
      },
      "source": [
        "## Crime rate decreased by 53.59%"
      ]
    },
    {
      "cell_type": "code",
      "metadata": {
        "id": "JqfT7ssrHbGk",
        "colab_type": "code",
        "colab": {
          "base_uri": "https://localhost:8080/",
          "height": 34
        },
        "outputId": "cfe06225-3a9a-49d2-f38d-f6bdeeee1cf5"
      },
      "source": [
        "round((data.YEAR.value_counts().loc[2018] - data.YEAR.value_counts().loc[2017])/data.YEAR.value_counts().loc[2018] * 100,2)"
      ],
      "execution_count": 27,
      "outputs": [
        {
          "output_type": "execute_result",
          "data": {
            "text/plain": [
              "-53.59"
            ]
          },
          "metadata": {
            "tags": []
          },
          "execution_count": 27
        }
      ]
    },
    {
      "cell_type": "code",
      "metadata": {
        "id": "49HKlKolHaa3",
        "colab_type": "code",
        "colab": {
          "base_uri": "https://localhost:8080/",
          "height": 769
        },
        "outputId": "c43cb725-979c-4fe9-8773-d45086e401d7"
      },
      "source": [
        "fig = plt.figure(figsize=(10,7))\n",
        "\n",
        "sns.countplot(data.OFFENSE_CODE_GROUP)\n",
        "plt.xticks(rotation=90)"
      ],
      "execution_count": 29,
      "outputs": [
        {
          "output_type": "execute_result",
          "data": {
            "text/plain": [
              "(array([ 0,  1,  2,  3,  4,  5,  6,  7,  8,  9, 10, 11, 12, 13, 14, 15, 16,\n",
              "        17, 18, 19, 20, 21, 22, 23, 24, 25, 26, 27, 28, 29, 30, 31, 32, 33,\n",
              "        34, 35, 36, 37, 38, 39, 40, 41, 42, 43, 44, 45, 46, 47, 48, 49, 50,\n",
              "        51, 52, 53, 54, 55, 56, 57, 58, 59, 60, 61, 62, 63, 64, 65, 66]),\n",
              " <a list of 67 Text xticklabel objects>)"
            ]
          },
          "metadata": {
            "tags": []
          },
          "execution_count": 29
        },
        {
          "output_type": "display_data",
          "data": {
            "image/png": "[encoded data removed]",
            "text/plain": [
              "<Figure size 720x504 with 1 Axes>"
            ]
          },
          "metadata": {
            "tags": []
          }
        }
      ]
    },
    {
      "cell_type": "code",
      "metadata": {
        "id": "gmJ-SiCpIPQf",
        "colab_type": "code",
        "colab": {
          "base_uri": "https://localhost:8080/",
          "height": 411
        },
        "outputId": "bc994701-17a6-4099-83fb-7f8352b0bd80"
      },
      "source": [
        "sns.catplot(x='HOUR',\n",
        "           kind='count',\n",
        "            height=5.27, \n",
        "            aspect=3,\n",
        "            color='black',\n",
        "           data=data)\n",
        "plt.xticks(size=15)\n",
        "plt.yticks(size=10)\n",
        "plt.xlabel('Hour', fontsize=10)\n",
        "plt.ylabel('Count', fontsize=10)"
      ],
      "execution_count": 37,
      "outputs": [
        {
          "output_type": "execute_result",
          "data": {
            "text/plain": [
              "Text(-8.949999999999989, 0.5, 'Count')"
            ]
          },
          "metadata": {
            "tags": []
          },
          "execution_count": 37
        },
        {
          "output_type": "display_data",
          "data": {
            "image/png": "[encoded data removed]",
            "text/plain": [
              "<Figure size 1138.32x379.44 with 1 Axes>"
            ]
          },
          "metadata": {
            "tags": []
          }
        }
      ]
    },
    {
      "cell_type": "code",
      "metadata": {
        "id": "Vj7pZMzYIoxc",
        "colab_type": "code",
        "colab": {
          "base_uri": "https://localhost:8080/",
          "height": 410
        },
        "outputId": "37485059-39e6-48d6-c88a-63f47963392a"
      },
      "source": [
        "sns.catplot(x='DAY_OF_WEEK',\n",
        "           kind='count',\n",
        "            height=5.27, \n",
        "            aspect=3,\n",
        "            color='black',\n",
        "           data=data)\n",
        "plt.xticks(size=15)\n",
        "plt.yticks(size=10)\n",
        "plt.xlabel('Day', fontsize=10)\n",
        "plt.ylabel('Count', fontsize=10)"
      ],
      "execution_count": 38,
      "outputs": [
        {
          "output_type": "execute_result",
          "data": {
            "text/plain": [
              "Text(-8.699999999999989, 0.5, 'Count')"
            ]
          },
          "metadata": {
            "tags": []
          },
          "execution_count": 38
        },
        {
          "output_type": "display_data",
          "data": {
            "image/png": "[encoded data removed]",
            "text/plain": [
              "<Figure size 1138.32x379.44 with 1 Axes>"
            ]
          },
          "metadata": {
            "tags": []
          }
        }
      ]
    },
    {
      "cell_type": "code",
      "metadata": {
        "id": "tErVnrl_JjzV",
        "colab_type": "code",
        "colab": {
          "base_uri": "https://localhost:8080/",
          "height": 411
        },
        "outputId": "27b1586c-6e63-4c67-9228-26fe78543f0d"
      },
      "source": [
        "sns.catplot(x='MONTH',\n",
        "           kind='count',\n",
        "            height=5.27, \n",
        "            aspect=3,\n",
        "            color='black',\n",
        "           data=data)\n",
        "plt.xticks(size=15)\n",
        "plt.yticks(size=10)\n",
        "plt.xlabel('Month', fontsize=10)\n",
        "plt.ylabel('Count', fontsize=10)"
      ],
      "execution_count": 40,
      "outputs": [
        {
          "output_type": "execute_result",
          "data": {
            "text/plain": [
              "Text(-8.824999999999989, 0.5, 'Count')"
            ]
          },
          "metadata": {
            "tags": []
          },
          "execution_count": 40
        },
        {
          "output_type": "display_data",
          "data": {
            "image/png": "[encoded data removed]",
            "text/plain": [
              "<Figure size 1138.32x379.44 with 1 Axes>"
            ]
          },
          "metadata": {
            "tags": []
          }
        }
      ]
    },
    {
      "cell_type": "code",
      "metadata": {
        "id": "WiB38z8HNkQ7",
        "colab_type": "code",
        "colab": {
          "base_uri": "https://localhost:8080/",
          "height": 411
        },
        "outputId": "ce2d1e7a-b50e-4818-bcda-79efde124771"
      },
      "source": [
        "sns.catplot(x='DISTRICT',\n",
        "           kind='count',\n",
        "            height=5.27, \n",
        "            aspect=3,\n",
        "            color='black',\n",
        "           data=data)\n",
        "plt.xticks(size=15)\n",
        "plt.yticks(size=10)\n",
        "plt.xlabel('Hour', fontsize=10)\n",
        "plt.ylabel('Count', fontsize=10)"
      ],
      "execution_count": 53,
      "outputs": [
        {
          "output_type": "execute_result",
          "data": {
            "text/plain": [
              "Text(-8.699999999999989, 0.5, 'Count')"
            ]
          },
          "metadata": {
            "tags": []
          },
          "execution_count": 53
        },
        {
          "output_type": "display_data",
          "data": {
            "image/png": "[encoded data removed]",
            "text/plain": [
              "<Figure size 1138.32x379.44 with 1 Axes>"
            ]
          },
          "metadata": {
            "tags": []
          }
        }
      ]
    },
    {
      "cell_type": "markdown",
      "metadata": {
        "id": "erk4HeUnLRzE",
        "colab_type": "text"
      },
      "source": [
        "## Top crimes that are most likey to get occur and reported"
      ]
    },
    {
      "cell_type": "code",
      "metadata": {
        "id": "b9kxx6Q3J-mk",
        "colab_type": "code",
        "colab": {
          "base_uri": "https://localhost:8080/",
          "height": 359
        },
        "outputId": "b17024d2-c294-4337-e501-5d394a1a8dd7"
      },
      "source": [
        "top_crime = pd.DataFrame(data['OFFENSE_CODE'].value_counts()).merge(data_code,left_index=True,right_on='CODE',how='inner')[:10]\n",
        "top_crime"
      ],
      "execution_count": 52,
      "outputs": [
        {
          "output_type": "execute_result",
          "data": {
            "text/html": [
              "<div>\n",
              "<style scoped>\n",
              "    .dataframe tbody tr th:only-of-type {\n",
              "        vertical-align: middle;\n",
              "    }\n",
              "\n",
              "    .dataframe tbody tr th {\n",
              "        vertical-align: top;\n",
              "    }\n",
              "\n",
              "    .dataframe thead th {\n",
              "        text-align: right;\n",
              "    }\n",
              "</style>\n",
              "<table border=\"1\" class=\"dataframe\">\n",
              "  <thead>\n",
              "    <tr style=\"text-align: right;\">\n",
              "      <th></th>\n",
              "      <th>OFFENSE_CODE</th>\n",
              "      <th>CODE</th>\n",
              "      <th>NAME</th>\n",
              "    </tr>\n",
              "  </thead>\n",
              "  <tbody>\n",
              "    <tr>\n",
              "      <th>66</th>\n",
              "      <td>18783</td>\n",
              "      <td>3006</td>\n",
              "      <td>SICK/INJURED/MEDICAL - PERSON</td>\n",
              "    </tr>\n",
              "    <tr>\n",
              "      <th>495</th>\n",
              "      <td>18783</td>\n",
              "      <td>3006</td>\n",
              "      <td>SICK/INJURED/MEDICAL - PERSON</td>\n",
              "    </tr>\n",
              "    <tr>\n",
              "      <th>151</th>\n",
              "      <td>18754</td>\n",
              "      <td>3115</td>\n",
              "      <td>INVESTIGATE PERSON</td>\n",
              "    </tr>\n",
              "    <tr>\n",
              "      <th>427</th>\n",
              "      <td>18754</td>\n",
              "      <td>3115</td>\n",
              "      <td>INVESTIGATE PERSON</td>\n",
              "    </tr>\n",
              "    <tr>\n",
              "      <th>180</th>\n",
              "      <td>16323</td>\n",
              "      <td>3831</td>\n",
              "      <td>M/V - LEAVING SCENE - PROPERTY DAMAGE</td>\n",
              "    </tr>\n",
              "    <tr>\n",
              "      <th>79</th>\n",
              "      <td>15154</td>\n",
              "      <td>1402</td>\n",
              "      <td>VANDALISM</td>\n",
              "    </tr>\n",
              "    <tr>\n",
              "      <th>520</th>\n",
              "      <td>15154</td>\n",
              "      <td>1402</td>\n",
              "      <td>VANDALISM</td>\n",
              "    </tr>\n",
              "    <tr>\n",
              "      <th>91</th>\n",
              "      <td>14799</td>\n",
              "      <td>802</td>\n",
              "      <td>ASSAULT SIMPLE - BATTERY</td>\n",
              "    </tr>\n",
              "    <tr>\n",
              "      <th>336</th>\n",
              "      <td>14799</td>\n",
              "      <td>802</td>\n",
              "      <td>ASSAULT &amp; BATTERY</td>\n",
              "    </tr>\n",
              "    <tr>\n",
              "      <th>81</th>\n",
              "      <td>13099</td>\n",
              "      <td>3301</td>\n",
              "      <td>VERBAL DISPUTE</td>\n",
              "    </tr>\n",
              "  </tbody>\n",
              "</table>\n",
              "</div>"
            ],
            "text/plain": [
              "     OFFENSE_CODE  CODE                                   NAME\n",
              "66          18783  3006          SICK/INJURED/MEDICAL - PERSON\n",
              "495         18783  3006          SICK/INJURED/MEDICAL - PERSON\n",
              "151         18754  3115                     INVESTIGATE PERSON\n",
              "427         18754  3115                     INVESTIGATE PERSON\n",
              "180         16323  3831  M/V - LEAVING SCENE - PROPERTY DAMAGE\n",
              "79          15154  1402                              VANDALISM\n",
              "520         15154  1402                              VANDALISM\n",
              "91          14799   802               ASSAULT SIMPLE - BATTERY\n",
              "336         14799   802                      ASSAULT & BATTERY\n",
              "81          13099  3301                         VERBAL DISPUTE"
            ]
          },
          "metadata": {
            "tags": []
          },
          "execution_count": 52
        }
      ]
    },
    {
      "cell_type": "code",
      "metadata": {
        "id": "Lv5K6tE6K_6b",
        "colab_type": "code",
        "colab": {}
      },
      "source": [
        "crime_report = data[['YEAR','OFFENSE_CODE','INCIDENT_NUMBER']].groupby(['YEAR','OFFENSE_CODE'],as_index=False).count().sort_values(by=['YEAR','INCIDENT_NUMBER'],ascending=False)"
      ],
      "execution_count": 0,
      "outputs": []
    },
    {
      "cell_type": "code",
      "metadata": {
        "id": "H0sQFy8jOF5g",
        "colab_type": "code",
        "colab": {
          "base_uri": "https://localhost:8080/",
          "height": 1000
        },
        "outputId": "8187f0a7-2da8-4393-df6e-42d6dcca5cb9"
      },
      "source": [
        "crime_report.merge(data_code,left_on='OFFENSE_CODE',right_on='CODE',how='inner')"
      ],
      "execution_count": 70,
      "outputs": [
        {
          "output_type": "execute_result",
          "data": {
            "text/html": [
              "<div>\n",
              "<style scoped>\n",
              "    .dataframe tbody tr th:only-of-type {\n",
              "        vertical-align: middle;\n",
              "    }\n",
              "\n",
              "    .dataframe tbody tr th {\n",
              "        vertical-align: top;\n",
              "    }\n",
              "\n",
              "    .dataframe thead th {\n",
              "        text-align: right;\n",
              "    }\n",
              "</style>\n",
              "<table border=\"1\" class=\"dataframe\">\n",
              "  <thead>\n",
              "    <tr style=\"text-align: right;\">\n",
              "      <th></th>\n",
              "      <th>YEAR</th>\n",
              "      <th>OFFENSE_CODE</th>\n",
              "      <th>INCIDENT_NUMBER</th>\n",
              "      <th>CODE</th>\n",
              "      <th>NAME</th>\n",
              "    </tr>\n",
              "  </thead>\n",
              "  <tbody>\n",
              "    <tr>\n",
              "      <th>0</th>\n",
              "      <td>2018</td>\n",
              "      <td>3006</td>\n",
              "      <td>4627</td>\n",
              "      <td>3006</td>\n",
              "      <td>SICK/INJURED/MEDICAL - PERSON</td>\n",
              "    </tr>\n",
              "    <tr>\n",
              "      <th>1</th>\n",
              "      <td>2018</td>\n",
              "      <td>3006</td>\n",
              "      <td>4627</td>\n",
              "      <td>3006</td>\n",
              "      <td>SICK/INJURED/MEDICAL - PERSON</td>\n",
              "    </tr>\n",
              "    <tr>\n",
              "      <th>2</th>\n",
              "      <td>2017</td>\n",
              "      <td>3006</td>\n",
              "      <td>6277</td>\n",
              "      <td>3006</td>\n",
              "      <td>SICK/INJURED/MEDICAL - PERSON</td>\n",
              "    </tr>\n",
              "    <tr>\n",
              "      <th>3</th>\n",
              "      <td>2017</td>\n",
              "      <td>3006</td>\n",
              "      <td>6277</td>\n",
              "      <td>3006</td>\n",
              "      <td>SICK/INJURED/MEDICAL - PERSON</td>\n",
              "    </tr>\n",
              "    <tr>\n",
              "      <th>4</th>\n",
              "      <td>2016</td>\n",
              "      <td>3006</td>\n",
              "      <td>5495</td>\n",
              "      <td>3006</td>\n",
              "      <td>SICK/INJURED/MEDICAL - PERSON</td>\n",
              "    </tr>\n",
              "    <tr>\n",
              "      <th>5</th>\n",
              "      <td>2016</td>\n",
              "      <td>3006</td>\n",
              "      <td>5495</td>\n",
              "      <td>3006</td>\n",
              "      <td>SICK/INJURED/MEDICAL - PERSON</td>\n",
              "    </tr>\n",
              "    <tr>\n",
              "      <th>6</th>\n",
              "      <td>2015</td>\n",
              "      <td>3006</td>\n",
              "      <td>2384</td>\n",
              "      <td>3006</td>\n",
              "      <td>SICK/INJURED/MEDICAL - PERSON</td>\n",
              "    </tr>\n",
              "    <tr>\n",
              "      <th>7</th>\n",
              "      <td>2015</td>\n",
              "      <td>3006</td>\n",
              "      <td>2384</td>\n",
              "      <td>3006</td>\n",
              "      <td>SICK/INJURED/MEDICAL - PERSON</td>\n",
              "    </tr>\n",
              "    <tr>\n",
              "      <th>8</th>\n",
              "      <td>2018</td>\n",
              "      <td>3115</td>\n",
              "      <td>3818</td>\n",
              "      <td>3115</td>\n",
              "      <td>INVESTIGATE PERSON</td>\n",
              "    </tr>\n",
              "    <tr>\n",
              "      <th>9</th>\n",
              "      <td>2018</td>\n",
              "      <td>3115</td>\n",
              "      <td>3818</td>\n",
              "      <td>3115</td>\n",
              "      <td>INVESTIGATE PERSON</td>\n",
              "    </tr>\n",
              "    <tr>\n",
              "      <th>10</th>\n",
              "      <td>2017</td>\n",
              "      <td>3115</td>\n",
              "      <td>6660</td>\n",
              "      <td>3115</td>\n",
              "      <td>INVESTIGATE PERSON</td>\n",
              "    </tr>\n",
              "    <tr>\n",
              "      <th>11</th>\n",
              "      <td>2017</td>\n",
              "      <td>3115</td>\n",
              "      <td>6660</td>\n",
              "      <td>3115</td>\n",
              "      <td>INVESTIGATE PERSON</td>\n",
              "    </tr>\n",
              "    <tr>\n",
              "      <th>12</th>\n",
              "      <td>2016</td>\n",
              "      <td>3115</td>\n",
              "      <td>5764</td>\n",
              "      <td>3115</td>\n",
              "      <td>INVESTIGATE PERSON</td>\n",
              "    </tr>\n",
              "    <tr>\n",
              "      <th>13</th>\n",
              "      <td>2016</td>\n",
              "      <td>3115</td>\n",
              "      <td>5764</td>\n",
              "      <td>3115</td>\n",
              "      <td>INVESTIGATE PERSON</td>\n",
              "    </tr>\n",
              "    <tr>\n",
              "      <th>14</th>\n",
              "      <td>2015</td>\n",
              "      <td>3115</td>\n",
              "      <td>2512</td>\n",
              "      <td>3115</td>\n",
              "      <td>INVESTIGATE PERSON</td>\n",
              "    </tr>\n",
              "    <tr>\n",
              "      <th>15</th>\n",
              "      <td>2015</td>\n",
              "      <td>3115</td>\n",
              "      <td>2512</td>\n",
              "      <td>3115</td>\n",
              "      <td>INVESTIGATE PERSON</td>\n",
              "    </tr>\n",
              "    <tr>\n",
              "      <th>16</th>\n",
              "      <td>2018</td>\n",
              "      <td>3831</td>\n",
              "      <td>3383</td>\n",
              "      <td>3831</td>\n",
              "      <td>M/V - LEAVING SCENE - PROPERTY DAMAGE</td>\n",
              "    </tr>\n",
              "    <tr>\n",
              "      <th>17</th>\n",
              "      <td>2017</td>\n",
              "      <td>3831</td>\n",
              "      <td>5219</td>\n",
              "      <td>3831</td>\n",
              "      <td>M/V - LEAVING SCENE - PROPERTY DAMAGE</td>\n",
              "    </tr>\n",
              "    <tr>\n",
              "      <th>18</th>\n",
              "      <td>2016</td>\n",
              "      <td>3831</td>\n",
              "      <td>5070</td>\n",
              "      <td>3831</td>\n",
              "      <td>M/V - LEAVING SCENE - PROPERTY DAMAGE</td>\n",
              "    </tr>\n",
              "    <tr>\n",
              "      <th>19</th>\n",
              "      <td>2015</td>\n",
              "      <td>3831</td>\n",
              "      <td>2651</td>\n",
              "      <td>3831</td>\n",
              "      <td>M/V - LEAVING SCENE - PROPERTY DAMAGE</td>\n",
              "    </tr>\n",
              "    <tr>\n",
              "      <th>20</th>\n",
              "      <td>2018</td>\n",
              "      <td>802</td>\n",
              "      <td>3296</td>\n",
              "      <td>802</td>\n",
              "      <td>ASSAULT SIMPLE - BATTERY</td>\n",
              "    </tr>\n",
              "    <tr>\n",
              "      <th>21</th>\n",
              "      <td>2018</td>\n",
              "      <td>802</td>\n",
              "      <td>3296</td>\n",
              "      <td>802</td>\n",
              "      <td>ASSAULT &amp; BATTERY</td>\n",
              "    </tr>\n",
              "    <tr>\n",
              "      <th>22</th>\n",
              "      <td>2017</td>\n",
              "      <td>802</td>\n",
              "      <td>4635</td>\n",
              "      <td>802</td>\n",
              "      <td>ASSAULT SIMPLE - BATTERY</td>\n",
              "    </tr>\n",
              "    <tr>\n",
              "      <th>23</th>\n",
              "      <td>2017</td>\n",
              "      <td>802</td>\n",
              "      <td>4635</td>\n",
              "      <td>802</td>\n",
              "      <td>ASSAULT &amp; BATTERY</td>\n",
              "    </tr>\n",
              "    <tr>\n",
              "      <th>24</th>\n",
              "      <td>2016</td>\n",
              "      <td>802</td>\n",
              "      <td>4468</td>\n",
              "      <td>802</td>\n",
              "      <td>ASSAULT SIMPLE - BATTERY</td>\n",
              "    </tr>\n",
              "    <tr>\n",
              "      <th>25</th>\n",
              "      <td>2016</td>\n",
              "      <td>802</td>\n",
              "      <td>4468</td>\n",
              "      <td>802</td>\n",
              "      <td>ASSAULT &amp; BATTERY</td>\n",
              "    </tr>\n",
              "    <tr>\n",
              "      <th>26</th>\n",
              "      <td>2015</td>\n",
              "      <td>802</td>\n",
              "      <td>2400</td>\n",
              "      <td>802</td>\n",
              "      <td>ASSAULT SIMPLE - BATTERY</td>\n",
              "    </tr>\n",
              "    <tr>\n",
              "      <th>27</th>\n",
              "      <td>2015</td>\n",
              "      <td>802</td>\n",
              "      <td>2400</td>\n",
              "      <td>802</td>\n",
              "      <td>ASSAULT &amp; BATTERY</td>\n",
              "    </tr>\n",
              "    <tr>\n",
              "      <th>28</th>\n",
              "      <td>2018</td>\n",
              "      <td>3301</td>\n",
              "      <td>3055</td>\n",
              "      <td>3301</td>\n",
              "      <td>VERBAL DISPUTE</td>\n",
              "    </tr>\n",
              "    <tr>\n",
              "      <th>29</th>\n",
              "      <td>2018</td>\n",
              "      <td>3301</td>\n",
              "      <td>3055</td>\n",
              "      <td>3301</td>\n",
              "      <td>VERBAL DISPUTE</td>\n",
              "    </tr>\n",
              "    <tr>\n",
              "      <th>...</th>\n",
              "      <td>...</td>\n",
              "      <td>...</td>\n",
              "      <td>...</td>\n",
              "      <td>...</td>\n",
              "      <td>...</td>\n",
              "    </tr>\n",
              "    <tr>\n",
              "      <th>1291</th>\n",
              "      <td>2016</td>\n",
              "      <td>338</td>\n",
              "      <td>1</td>\n",
              "      <td>338</td>\n",
              "      <td>ROBBERY - UNARMED - RESIDENCE</td>\n",
              "    </tr>\n",
              "    <tr>\n",
              "      <th>1292</th>\n",
              "      <td>2016</td>\n",
              "      <td>402</td>\n",
              "      <td>1</td>\n",
              "      <td>402</td>\n",
              "      <td>ASSAULT &amp; BATTERY D/W - KNIFE</td>\n",
              "    </tr>\n",
              "    <tr>\n",
              "      <th>1293</th>\n",
              "      <td>2016</td>\n",
              "      <td>404</td>\n",
              "      <td>1</td>\n",
              "      <td>404</td>\n",
              "      <td>A&amp;B HANDS, FEET, ETC.  - MED. ATTENTION REQ.</td>\n",
              "    </tr>\n",
              "    <tr>\n",
              "      <th>1294</th>\n",
              "      <td>2016</td>\n",
              "      <td>527</td>\n",
              "      <td>1</td>\n",
              "      <td>527</td>\n",
              "      <td>B&amp;E RESIDENCE DAY - NO PROP TAKEN</td>\n",
              "    </tr>\n",
              "    <tr>\n",
              "      <th>1295</th>\n",
              "      <td>2016</td>\n",
              "      <td>627</td>\n",
              "      <td>1</td>\n",
              "      <td>627</td>\n",
              "      <td>LARCENY IN A BUILDING $50 TO $199</td>\n",
              "    </tr>\n",
              "    <tr>\n",
              "      <th>1296</th>\n",
              "      <td>2016</td>\n",
              "      <td>633</td>\n",
              "      <td>1</td>\n",
              "      <td>633</td>\n",
              "      <td>LARCENY SHOPLIFTING UNDER $50</td>\n",
              "    </tr>\n",
              "    <tr>\n",
              "      <th>1297</th>\n",
              "      <td>2015</td>\n",
              "      <td>633</td>\n",
              "      <td>3</td>\n",
              "      <td>633</td>\n",
              "      <td>LARCENY SHOPLIFTING UNDER $50</td>\n",
              "    </tr>\n",
              "    <tr>\n",
              "      <th>1298</th>\n",
              "      <td>2016</td>\n",
              "      <td>634</td>\n",
              "      <td>1</td>\n",
              "      <td>634</td>\n",
              "      <td>LARCENY NON-ACCESSORY FROM VEH. UNDER $50</td>\n",
              "    </tr>\n",
              "    <tr>\n",
              "      <th>1299</th>\n",
              "      <td>2016</td>\n",
              "      <td>714</td>\n",
              "      <td>1</td>\n",
              "      <td>714</td>\n",
              "      <td>AUTO THEFT OTHER</td>\n",
              "    </tr>\n",
              "    <tr>\n",
              "      <th>1300</th>\n",
              "      <td>2016</td>\n",
              "      <td>1002</td>\n",
              "      <td>1</td>\n",
              "      <td>1002</td>\n",
              "      <td>FORGERY OR UTTERING</td>\n",
              "    </tr>\n",
              "    <tr>\n",
              "      <th>1301</th>\n",
              "      <td>2015</td>\n",
              "      <td>1002</td>\n",
              "      <td>1</td>\n",
              "      <td>1002</td>\n",
              "      <td>FORGERY OR UTTERING</td>\n",
              "    </tr>\n",
              "    <tr>\n",
              "      <th>1302</th>\n",
              "      <td>2016</td>\n",
              "      <td>1866</td>\n",
              "      <td>1</td>\n",
              "      <td>1866</td>\n",
              "      <td>DRUGS - POSS CLASS E INTENT TO MF DIST DISP</td>\n",
              "    </tr>\n",
              "    <tr>\n",
              "      <th>1303</th>\n",
              "      <td>2015</td>\n",
              "      <td>1866</td>\n",
              "      <td>1</td>\n",
              "      <td>1866</td>\n",
              "      <td>DRUGS - POSS CLASS E INTENT TO MF DIST DISP</td>\n",
              "    </tr>\n",
              "    <tr>\n",
              "      <th>1304</th>\n",
              "      <td>2016</td>\n",
              "      <td>2609</td>\n",
              "      <td>1</td>\n",
              "      <td>2609</td>\n",
              "      <td>DRUGS - GLUE INHALATION</td>\n",
              "    </tr>\n",
              "    <tr>\n",
              "      <th>1305</th>\n",
              "      <td>2016</td>\n",
              "      <td>2609</td>\n",
              "      <td>1</td>\n",
              "      <td>2609</td>\n",
              "      <td>DRUGS - GLUE INHALATION</td>\n",
              "    </tr>\n",
              "    <tr>\n",
              "      <th>1306</th>\n",
              "      <td>2016</td>\n",
              "      <td>2910</td>\n",
              "      <td>1</td>\n",
              "      <td>2910</td>\n",
              "      <td>VAL - OPERATING AFTER REV/SUSP.</td>\n",
              "    </tr>\n",
              "    <tr>\n",
              "      <th>1307</th>\n",
              "      <td>2015</td>\n",
              "      <td>2910</td>\n",
              "      <td>1</td>\n",
              "      <td>2910</td>\n",
              "      <td>VAL - OPERATING AFTER REV/SUSP.</td>\n",
              "    </tr>\n",
              "    <tr>\n",
              "      <th>1308</th>\n",
              "      <td>2015</td>\n",
              "      <td>623</td>\n",
              "      <td>2</td>\n",
              "      <td>623</td>\n",
              "      <td>LARCENY SHOPLIFTING $50 TO $199</td>\n",
              "    </tr>\n",
              "    <tr>\n",
              "      <th>1309</th>\n",
              "      <td>2015</td>\n",
              "      <td>315</td>\n",
              "      <td>1</td>\n",
              "      <td>315</td>\n",
              "      <td>ROBBERY - KNIFE - STREET</td>\n",
              "    </tr>\n",
              "    <tr>\n",
              "      <th>1310</th>\n",
              "      <td>2015</td>\n",
              "      <td>334</td>\n",
              "      <td>1</td>\n",
              "      <td>334</td>\n",
              "      <td>ROBBERY - UNARMED - BUSINESS</td>\n",
              "    </tr>\n",
              "    <tr>\n",
              "      <th>1311</th>\n",
              "      <td>2015</td>\n",
              "      <td>349</td>\n",
              "      <td>1</td>\n",
              "      <td>349</td>\n",
              "      <td>ROBBERY ATTEMPT - KNIFE - BANK</td>\n",
              "    </tr>\n",
              "    <tr>\n",
              "      <th>1312</th>\n",
              "      <td>2015</td>\n",
              "      <td>432</td>\n",
              "      <td>1</td>\n",
              "      <td>432</td>\n",
              "      <td>ASSAULT D/W - KNIFE ON POLICE OFFICER</td>\n",
              "    </tr>\n",
              "    <tr>\n",
              "      <th>1313</th>\n",
              "      <td>2015</td>\n",
              "      <td>511</td>\n",
              "      <td>1</td>\n",
              "      <td>511</td>\n",
              "      <td>B&amp;E RESIDENCE NIGHT - ATTEMPT FORCE</td>\n",
              "    </tr>\n",
              "    <tr>\n",
              "      <th>1314</th>\n",
              "      <td>2015</td>\n",
              "      <td>530</td>\n",
              "      <td>1</td>\n",
              "      <td>530</td>\n",
              "      <td>B&amp;E NON-RESIDENCE NIGHT - FORCE</td>\n",
              "    </tr>\n",
              "    <tr>\n",
              "      <th>1315</th>\n",
              "      <td>2015</td>\n",
              "      <td>547</td>\n",
              "      <td>1</td>\n",
              "      <td>547</td>\n",
              "      <td>B&amp;E NON-RESIDENCE DAY - NO PROP TAKEN</td>\n",
              "    </tr>\n",
              "    <tr>\n",
              "      <th>1316</th>\n",
              "      <td>2015</td>\n",
              "      <td>624</td>\n",
              "      <td>1</td>\n",
              "      <td>624</td>\n",
              "      <td>LARCENY NON-ACCESSORY FROM VEH. $50 TO $199</td>\n",
              "    </tr>\n",
              "    <tr>\n",
              "      <th>1317</th>\n",
              "      <td>2015</td>\n",
              "      <td>637</td>\n",
              "      <td>1</td>\n",
              "      <td>637</td>\n",
              "      <td>LARCENY IN A BUILDING UNDER $50</td>\n",
              "    </tr>\n",
              "    <tr>\n",
              "      <th>1318</th>\n",
              "      <td>2015</td>\n",
              "      <td>639</td>\n",
              "      <td>1</td>\n",
              "      <td>639</td>\n",
              "      <td>LARCENY OTHER UNDER $50</td>\n",
              "    </tr>\n",
              "    <tr>\n",
              "      <th>1319</th>\n",
              "      <td>2015</td>\n",
              "      <td>1105</td>\n",
              "      <td>1</td>\n",
              "      <td>1105</td>\n",
              "      <td>FRAUDS - ALL OTHER</td>\n",
              "    </tr>\n",
              "    <tr>\n",
              "      <th>1320</th>\n",
              "      <td>2015</td>\n",
              "      <td>1863</td>\n",
              "      <td>1</td>\n",
              "      <td>1863</td>\n",
              "      <td>DRUGS - POSS CLASS D - MARIJUANA, ETC.</td>\n",
              "    </tr>\n",
              "  </tbody>\n",
              "</table>\n",
              "<p>1321 rows × 5 columns</p>\n",
              "</div>"
            ],
            "text/plain": [
              "      YEAR  OFFENSE_CODE  ...  CODE                                          NAME\n",
              "0     2018          3006  ...  3006                 SICK/INJURED/MEDICAL - PERSON\n",
              "1     2018          3006  ...  3006                 SICK/INJURED/MEDICAL - PERSON\n",
              "2     2017          3006  ...  3006                 SICK/INJURED/MEDICAL - PERSON\n",
              "3     2017          3006  ...  3006                 SICK/INJURED/MEDICAL - PERSON\n",
              "4     2016          3006  ...  3006                 SICK/INJURED/MEDICAL - PERSON\n",
              "5     2016          3006  ...  3006                 SICK/INJURED/MEDICAL - PERSON\n",
              "6     2015          3006  ...  3006                 SICK/INJURED/MEDICAL - PERSON\n",
              "7     2015          3006  ...  3006                 SICK/INJURED/MEDICAL - PERSON\n",
              "8     2018          3115  ...  3115                            INVESTIGATE PERSON\n",
              "9     2018          3115  ...  3115                            INVESTIGATE PERSON\n",
              "10    2017          3115  ...  3115                            INVESTIGATE PERSON\n",
              "11    2017          3115  ...  3115                            INVESTIGATE PERSON\n",
              "12    2016          3115  ...  3115                            INVESTIGATE PERSON\n",
              "13    2016          3115  ...  3115                            INVESTIGATE PERSON\n",
              "14    2015          3115  ...  3115                            INVESTIGATE PERSON\n",
              "15    2015          3115  ...  3115                            INVESTIGATE PERSON\n",
              "16    2018          3831  ...  3831         M/V - LEAVING SCENE - PROPERTY DAMAGE\n",
              "17    2017          3831  ...  3831         M/V - LEAVING SCENE - PROPERTY DAMAGE\n",
              "18    2016          3831  ...  3831         M/V - LEAVING SCENE - PROPERTY DAMAGE\n",
              "19    2015          3831  ...  3831         M/V - LEAVING SCENE - PROPERTY DAMAGE\n",
              "20    2018           802  ...   802                      ASSAULT SIMPLE - BATTERY\n",
              "21    2018           802  ...   802                             ASSAULT & BATTERY\n",
              "22    2017           802  ...   802                      ASSAULT SIMPLE - BATTERY\n",
              "23    2017           802  ...   802                             ASSAULT & BATTERY\n",
              "24    2016           802  ...   802                      ASSAULT SIMPLE - BATTERY\n",
              "25    2016           802  ...   802                             ASSAULT & BATTERY\n",
              "26    2015           802  ...   802                      ASSAULT SIMPLE - BATTERY\n",
              "27    2015           802  ...   802                             ASSAULT & BATTERY\n",
              "28    2018          3301  ...  3301                                VERBAL DISPUTE\n",
              "29    2018          3301  ...  3301                                VERBAL DISPUTE\n",
              "...    ...           ...  ...   ...                                           ...\n",
              "1291  2016           338  ...   338                 ROBBERY - UNARMED - RESIDENCE\n",
              "1292  2016           402  ...   402                 ASSAULT & BATTERY D/W - KNIFE\n",
              "1293  2016           404  ...   404  A&B HANDS, FEET, ETC.  - MED. ATTENTION REQ.\n",
              "1294  2016           527  ...   527             B&E RESIDENCE DAY - NO PROP TAKEN\n",
              "1295  2016           627  ...   627             LARCENY IN A BUILDING $50 TO $199\n",
              "1296  2016           633  ...   633                 LARCENY SHOPLIFTING UNDER $50\n",
              "1297  2015           633  ...   633                 LARCENY SHOPLIFTING UNDER $50\n",
              "1298  2016           634  ...   634     LARCENY NON-ACCESSORY FROM VEH. UNDER $50\n",
              "1299  2016           714  ...   714                              AUTO THEFT OTHER\n",
              "1300  2016          1002  ...  1002                           FORGERY OR UTTERING\n",
              "1301  2015          1002  ...  1002                           FORGERY OR UTTERING\n",
              "1302  2016          1866  ...  1866   DRUGS - POSS CLASS E INTENT TO MF DIST DISP\n",
              "1303  2015          1866  ...  1866   DRUGS - POSS CLASS E INTENT TO MF DIST DISP\n",
              "1304  2016          2609  ...  2609                       DRUGS - GLUE INHALATION\n",
              "1305  2016          2609  ...  2609                       DRUGS - GLUE INHALATION\n",
              "1306  2016          2910  ...  2910               VAL - OPERATING AFTER REV/SUSP.\n",
              "1307  2015          2910  ...  2910               VAL - OPERATING AFTER REV/SUSP.\n",
              "1308  2015           623  ...   623               LARCENY SHOPLIFTING $50 TO $199\n",
              "1309  2015           315  ...   315                      ROBBERY - KNIFE - STREET\n",
              "1310  2015           334  ...   334                  ROBBERY - UNARMED - BUSINESS\n",
              "1311  2015           349  ...   349                ROBBERY ATTEMPT - KNIFE - BANK\n",
              "1312  2015           432  ...   432         ASSAULT D/W - KNIFE ON POLICE OFFICER\n",
              "1313  2015           511  ...   511           B&E RESIDENCE NIGHT - ATTEMPT FORCE\n",
              "1314  2015           530  ...   530               B&E NON-RESIDENCE NIGHT - FORCE\n",
              "1315  2015           547  ...   547         B&E NON-RESIDENCE DAY - NO PROP TAKEN\n",
              "1316  2015           624  ...   624   LARCENY NON-ACCESSORY FROM VEH. $50 TO $199\n",
              "1317  2015           637  ...   637               LARCENY IN A BUILDING UNDER $50\n",
              "1318  2015           639  ...   639                       LARCENY OTHER UNDER $50\n",
              "1319  2015          1105  ...  1105                            FRAUDS - ALL OTHER\n",
              "1320  2015          1863  ...  1863        DRUGS - POSS CLASS D - MARIJUANA, ETC.\n",
              "\n",
              "[1321 rows x 5 columns]"
            ]
          },
          "metadata": {
            "tags": []
          },
          "execution_count": 70
        }
      ]
    },
    {
      "cell_type": "code",
      "metadata": {
        "id": "3PmaEbVnPxS1",
        "colab_type": "code",
        "colab": {
          "base_uri": "https://localhost:8080/",
          "height": 1000
        },
        "outputId": "d34bb2e5-eae5-4e60-a577-5e20ef5ccd03"
      },
      "source": [
        "crime_report[crime_report.YEAR == 2018]"
      ],
      "execution_count": 73,
      "outputs": [
        {
          "output_type": "execute_result",
          "data": {
            "text/html": [
              "<div>\n",
              "<style scoped>\n",
              "    .dataframe tbody tr th:only-of-type {\n",
              "        vertical-align: middle;\n",
              "    }\n",
              "\n",
              "    .dataframe tbody tr th {\n",
              "        vertical-align: top;\n",
              "    }\n",
              "\n",
              "    .dataframe thead th {\n",
              "        text-align: right;\n",
              "    }\n",
              "</style>\n",
              "<table border=\"1\" class=\"dataframe\">\n",
              "  <thead>\n",
              "    <tr style=\"text-align: right;\">\n",
              "      <th></th>\n",
              "      <th>YEAR</th>\n",
              "      <th>OFFENSE_CODE</th>\n",
              "      <th>INCIDENT_NUMBER</th>\n",
              "    </tr>\n",
              "  </thead>\n",
              "  <tbody>\n",
              "    <tr>\n",
              "      <th>720</th>\n",
              "      <td>2018</td>\n",
              "      <td>3006</td>\n",
              "      <td>4627</td>\n",
              "    </tr>\n",
              "    <tr>\n",
              "      <th>734</th>\n",
              "      <td>2018</td>\n",
              "      <td>3115</td>\n",
              "      <td>3818</td>\n",
              "    </tr>\n",
              "    <tr>\n",
              "      <th>772</th>\n",
              "      <td>2018</td>\n",
              "      <td>3831</td>\n",
              "      <td>3383</td>\n",
              "    </tr>\n",
              "    <tr>\n",
              "      <th>627</th>\n",
              "      <td>2018</td>\n",
              "      <td>802</td>\n",
              "      <td>3296</td>\n",
              "    </tr>\n",
              "    <tr>\n",
              "      <th>749</th>\n",
              "      <td>2018</td>\n",
              "      <td>3301</td>\n",
              "      <td>3055</td>\n",
              "    </tr>\n",
              "    <tr>\n",
              "      <th>639</th>\n",
              "      <td>2018</td>\n",
              "      <td>1402</td>\n",
              "      <td>2768</td>\n",
              "    </tr>\n",
              "    <tr>\n",
              "      <th>756</th>\n",
              "      <td>2018</td>\n",
              "      <td>3410</td>\n",
              "      <td>2554</td>\n",
              "    </tr>\n",
              "    <tr>\n",
              "      <th>733</th>\n",
              "      <td>2018</td>\n",
              "      <td>3114</td>\n",
              "      <td>2529</td>\n",
              "    </tr>\n",
              "    <tr>\n",
              "      <th>743</th>\n",
              "      <td>2018</td>\n",
              "      <td>3201</td>\n",
              "      <td>2005</td>\n",
              "    </tr>\n",
              "    <tr>\n",
              "      <th>705</th>\n",
              "      <td>2018</td>\n",
              "      <td>2647</td>\n",
              "      <td>1993</td>\n",
              "    </tr>\n",
              "    <tr>\n",
              "      <th>614</th>\n",
              "      <td>2018</td>\n",
              "      <td>613</td>\n",
              "      <td>1833</td>\n",
              "    </tr>\n",
              "    <tr>\n",
              "      <th>618</th>\n",
              "      <td>2018</td>\n",
              "      <td>617</td>\n",
              "      <td>1687</td>\n",
              "    </tr>\n",
              "    <tr>\n",
              "      <th>615</th>\n",
              "      <td>2018</td>\n",
              "      <td>614</td>\n",
              "      <td>1644</td>\n",
              "    </tr>\n",
              "    <tr>\n",
              "      <th>763</th>\n",
              "      <td>2018</td>\n",
              "      <td>3802</td>\n",
              "      <td>1419</td>\n",
              "    </tr>\n",
              "    <tr>\n",
              "      <th>620</th>\n",
              "      <td>2018</td>\n",
              "      <td>619</td>\n",
              "      <td>1156</td>\n",
              "    </tr>\n",
              "    <tr>\n",
              "      <th>739</th>\n",
              "      <td>2018</td>\n",
              "      <td>3125</td>\n",
              "      <td>1153</td>\n",
              "    </tr>\n",
              "    <tr>\n",
              "      <th>631</th>\n",
              "      <td>2018</td>\n",
              "      <td>1102</td>\n",
              "      <td>1054</td>\n",
              "    </tr>\n",
              "    <tr>\n",
              "      <th>764</th>\n",
              "      <td>2018</td>\n",
              "      <td>3803</td>\n",
              "      <td>1031</td>\n",
              "    </tr>\n",
              "    <tr>\n",
              "      <th>601</th>\n",
              "      <td>2018</td>\n",
              "      <td>413</td>\n",
              "      <td>998</td>\n",
              "    </tr>\n",
              "    <tr>\n",
              "      <th>747</th>\n",
              "      <td>2018</td>\n",
              "      <td>3207</td>\n",
              "      <td>828</td>\n",
              "    </tr>\n",
              "    <tr>\n",
              "      <th>698</th>\n",
              "      <td>2018</td>\n",
              "      <td>2629</td>\n",
              "      <td>809</td>\n",
              "    </tr>\n",
              "    <tr>\n",
              "      <th>758</th>\n",
              "      <td>2018</td>\n",
              "      <td>3502</td>\n",
              "      <td>805</td>\n",
              "    </tr>\n",
              "    <tr>\n",
              "      <th>757</th>\n",
              "      <td>2018</td>\n",
              "      <td>3501</td>\n",
              "      <td>696</td>\n",
              "    </tr>\n",
              "    <tr>\n",
              "      <th>623</th>\n",
              "      <td>2018</td>\n",
              "      <td>724</td>\n",
              "      <td>694</td>\n",
              "    </tr>\n",
              "    <tr>\n",
              "      <th>762</th>\n",
              "      <td>2018</td>\n",
              "      <td>3801</td>\n",
              "      <td>687</td>\n",
              "    </tr>\n",
              "    <tr>\n",
              "      <th>729</th>\n",
              "      <td>2018</td>\n",
              "      <td>3109</td>\n",
              "      <td>673</td>\n",
              "    </tr>\n",
              "    <tr>\n",
              "      <th>602</th>\n",
              "      <td>2018</td>\n",
              "      <td>423</td>\n",
              "      <td>654</td>\n",
              "    </tr>\n",
              "    <tr>\n",
              "      <th>712</th>\n",
              "      <td>2018</td>\n",
              "      <td>2900</td>\n",
              "      <td>629</td>\n",
              "    </tr>\n",
              "    <tr>\n",
              "      <th>687</th>\n",
              "      <td>2018</td>\n",
              "      <td>2610</td>\n",
              "      <td>603</td>\n",
              "    </tr>\n",
              "    <tr>\n",
              "      <th>665</th>\n",
              "      <td>2018</td>\n",
              "      <td>1849</td>\n",
              "      <td>574</td>\n",
              "    </tr>\n",
              "    <tr>\n",
              "      <th>...</th>\n",
              "      <td>...</td>\n",
              "      <td>...</td>\n",
              "      <td>...</td>\n",
              "    </tr>\n",
              "    <tr>\n",
              "      <th>683</th>\n",
              "      <td>2018</td>\n",
              "      <td>2511</td>\n",
              "      <td>8</td>\n",
              "    </tr>\n",
              "    <tr>\n",
              "      <th>695</th>\n",
              "      <td>2018</td>\n",
              "      <td>2622</td>\n",
              "      <td>8</td>\n",
              "    </tr>\n",
              "    <tr>\n",
              "      <th>710</th>\n",
              "      <td>2018</td>\n",
              "      <td>2663</td>\n",
              "      <td>8</td>\n",
              "    </tr>\n",
              "    <tr>\n",
              "      <th>653</th>\n",
              "      <td>2018</td>\n",
              "      <td>1825</td>\n",
              "      <td>7</td>\n",
              "    </tr>\n",
              "    <tr>\n",
              "      <th>646</th>\n",
              "      <td>2018</td>\n",
              "      <td>1602</td>\n",
              "      <td>6</td>\n",
              "    </tr>\n",
              "    <tr>\n",
              "      <th>692</th>\n",
              "      <td>2018</td>\n",
              "      <td>2617</td>\n",
              "      <td>6</td>\n",
              "    </tr>\n",
              "    <tr>\n",
              "      <th>737</th>\n",
              "      <td>2018</td>\n",
              "      <td>3122</td>\n",
              "      <td>6</td>\n",
              "    </tr>\n",
              "    <tr>\n",
              "      <th>686</th>\n",
              "      <td>2018</td>\n",
              "      <td>2608</td>\n",
              "      <td>5</td>\n",
              "    </tr>\n",
              "    <tr>\n",
              "      <th>719</th>\n",
              "      <td>2018</td>\n",
              "      <td>3004</td>\n",
              "      <td>5</td>\n",
              "    </tr>\n",
              "    <tr>\n",
              "      <th>750</th>\n",
              "      <td>2018</td>\n",
              "      <td>3302</td>\n",
              "      <td>5</td>\n",
              "    </tr>\n",
              "    <tr>\n",
              "      <th>755</th>\n",
              "      <td>2018</td>\n",
              "      <td>3403</td>\n",
              "      <td>5</td>\n",
              "    </tr>\n",
              "    <tr>\n",
              "      <th>619</th>\n",
              "      <td>2018</td>\n",
              "      <td>618</td>\n",
              "      <td>4</td>\n",
              "    </tr>\n",
              "    <tr>\n",
              "      <th>650</th>\n",
              "      <td>2018</td>\n",
              "      <td>1807</td>\n",
              "      <td>4</td>\n",
              "    </tr>\n",
              "    <tr>\n",
              "      <th>688</th>\n",
              "      <td>2018</td>\n",
              "      <td>2611</td>\n",
              "      <td>4</td>\n",
              "    </tr>\n",
              "    <tr>\n",
              "      <th>693</th>\n",
              "      <td>2018</td>\n",
              "      <td>2618</td>\n",
              "      <td>4</td>\n",
              "    </tr>\n",
              "    <tr>\n",
              "      <th>702</th>\n",
              "      <td>2018</td>\n",
              "      <td>2641</td>\n",
              "      <td>4</td>\n",
              "    </tr>\n",
              "    <tr>\n",
              "      <th>725</th>\n",
              "      <td>2018</td>\n",
              "      <td>3029</td>\n",
              "      <td>4</td>\n",
              "    </tr>\n",
              "    <tr>\n",
              "      <th>634</th>\n",
              "      <td>2018</td>\n",
              "      <td>1108</td>\n",
              "      <td>3</td>\n",
              "    </tr>\n",
              "    <tr>\n",
              "      <th>703</th>\n",
              "      <td>2018</td>\n",
              "      <td>2642</td>\n",
              "      <td>3</td>\n",
              "    </tr>\n",
              "    <tr>\n",
              "      <th>738</th>\n",
              "      <td>2018</td>\n",
              "      <td>3123</td>\n",
              "      <td>3</td>\n",
              "    </tr>\n",
              "    <tr>\n",
              "      <th>751</th>\n",
              "      <td>2018</td>\n",
              "      <td>3303</td>\n",
              "      <td>3</td>\n",
              "    </tr>\n",
              "    <tr>\n",
              "      <th>699</th>\n",
              "      <td>2018</td>\n",
              "      <td>2631</td>\n",
              "      <td>2</td>\n",
              "    </tr>\n",
              "    <tr>\n",
              "      <th>701</th>\n",
              "      <td>2018</td>\n",
              "      <td>2636</td>\n",
              "      <td>2</td>\n",
              "    </tr>\n",
              "    <tr>\n",
              "      <th>723</th>\n",
              "      <td>2018</td>\n",
              "      <td>3016</td>\n",
              "      <td>2</td>\n",
              "    </tr>\n",
              "    <tr>\n",
              "      <th>596</th>\n",
              "      <td>2018</td>\n",
              "      <td>335</td>\n",
              "      <td>1</td>\n",
              "    </tr>\n",
              "    <tr>\n",
              "      <th>642</th>\n",
              "      <td>2018</td>\n",
              "      <td>1502</td>\n",
              "      <td>1</td>\n",
              "    </tr>\n",
              "    <tr>\n",
              "      <th>647</th>\n",
              "      <td>2018</td>\n",
              "      <td>1605</td>\n",
              "      <td>1</td>\n",
              "    </tr>\n",
              "    <tr>\n",
              "      <th>667</th>\n",
              "      <td>2018</td>\n",
              "      <td>1864</td>\n",
              "      <td>1</td>\n",
              "    </tr>\n",
              "    <tr>\n",
              "      <th>685</th>\n",
              "      <td>2018</td>\n",
              "      <td>2605</td>\n",
              "      <td>1</td>\n",
              "    </tr>\n",
              "    <tr>\n",
              "      <th>745</th>\n",
              "      <td>2018</td>\n",
              "      <td>3203</td>\n",
              "      <td>1</td>\n",
              "    </tr>\n",
              "  </tbody>\n",
              "</table>\n",
              "<p>180 rows × 3 columns</p>\n",
              "</div>"
            ],
            "text/plain": [
              "     YEAR  OFFENSE_CODE  INCIDENT_NUMBER\n",
              "720  2018          3006             4627\n",
              "734  2018          3115             3818\n",
              "772  2018          3831             3383\n",
              "627  2018           802             3296\n",
              "749  2018          3301             3055\n",
              "639  2018          1402             2768\n",
              "756  2018          3410             2554\n",
              "733  2018          3114             2529\n",
              "743  2018          3201             2005\n",
              "705  2018          2647             1993\n",
              "614  2018           613             1833\n",
              "618  2018           617             1687\n",
              "615  2018           614             1644\n",
              "763  2018          3802             1419\n",
              "620  2018           619             1156\n",
              "739  2018          3125             1153\n",
              "631  2018          1102             1054\n",
              "764  2018          3803             1031\n",
              "601  2018           413              998\n",
              "747  2018          3207              828\n",
              "698  2018          2629              809\n",
              "758  2018          3502              805\n",
              "757  2018          3501              696\n",
              "623  2018           724              694\n",
              "762  2018          3801              687\n",
              "729  2018          3109              673\n",
              "602  2018           423              654\n",
              "712  2018          2900              629\n",
              "687  2018          2610              603\n",
              "665  2018          1849              574\n",
              "..    ...           ...              ...\n",
              "683  2018          2511                8\n",
              "695  2018          2622                8\n",
              "710  2018          2663                8\n",
              "653  2018          1825                7\n",
              "646  2018          1602                6\n",
              "692  2018          2617                6\n",
              "737  2018          3122                6\n",
              "686  2018          2608                5\n",
              "719  2018          3004                5\n",
              "750  2018          3302                5\n",
              "755  2018          3403                5\n",
              "619  2018           618                4\n",
              "650  2018          1807                4\n",
              "688  2018          2611                4\n",
              "693  2018          2618                4\n",
              "702  2018          2641                4\n",
              "725  2018          3029                4\n",
              "634  2018          1108                3\n",
              "703  2018          2642                3\n",
              "738  2018          3123                3\n",
              "751  2018          3303                3\n",
              "699  2018          2631                2\n",
              "701  2018          2636                2\n",
              "723  2018          3016                2\n",
              "596  2018           335                1\n",
              "642  2018          1502                1\n",
              "647  2018          1605                1\n",
              "667  2018          1864                1\n",
              "685  2018          2605                1\n",
              "745  2018          3203                1\n",
              "\n",
              "[180 rows x 3 columns]"
            ]
          },
          "metadata": {
            "tags": []
          },
          "execution_count": 73
        }
      ]
    },
    {
      "cell_type": "code",
      "metadata": {
        "id": "W24lrhnqXzYc",
        "colab_type": "code",
        "colab": {
          "base_uri": "https://localhost:8080/",
          "height": 410
        },
        "outputId": "5e68f846-6922-4d51-a08f-bd55189a311b"
      },
      "source": [
        "sns.catplot(x='UCR_PART',\n",
        "           kind='count',\n",
        "            height=5.27, \n",
        "            aspect=3,\n",
        "            data=data)\n",
        "plt.xticks(size=15)\n",
        "plt.yticks(size=10)\n",
        "plt.xlabel('ucr part', fontsize=10)\n",
        "plt.ylabel('Count', fontsize=10)"
      ],
      "execution_count": 76,
      "outputs": [
        {
          "output_type": "execute_result",
          "data": {
            "text/plain": [
              "Text(-15.074999999999989, 0.5, 'Count')"
            ]
          },
          "metadata": {
            "tags": []
          },
          "execution_count": 76
        },
        {
          "output_type": "display_data",
          "data": {
            "image/png": "[encoded data removed]",
            "text/plain": [
              "<Figure size 1138.32x379.44 with 1 Axes>"
            ]
          },
          "metadata": {
            "tags": []
          }
        }
      ]
    },
    {
      "cell_type": "code",
      "metadata": {
        "id": "lGhmNwhIY5P0",
        "colab_type": "code",
        "colab": {}
      },
      "source": [
        ""
      ],
      "execution_count": 0,
      "outputs": []
    }
  ]
}